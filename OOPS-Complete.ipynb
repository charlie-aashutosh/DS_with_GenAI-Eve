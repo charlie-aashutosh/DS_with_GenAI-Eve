{
 "cells": [
  {
   "cell_type": "markdown",
   "id": "4d589f17-4cf3-4aea-88a5-955ea1a9fb16",
   "metadata": {},
   "source": [
    "Creat a class 'Car' which has attributes such as 'Brand' and 'Color'"
   ]
  },
  {
   "cell_type": "code",
   "execution_count": 8,
   "id": "6fc9e1fa-f233-445e-ba94-78e637da22c5",
   "metadata": {},
   "outputs": [],
   "source": [
    "#definining a class\n",
    "class Car:\n",
    "    def __init__(self,brand,color): #brand and color are my attributes, init is a constructor and self is a pointer\n",
    "        self.brand=brand #initializing brand attribute \n",
    "        self.color=color #initializing color attribute \n",
    "\n",
    "#defining objects\n",
    "obj1=Car('Mercedes','Black')\n",
    "obj2=Car('Porche','Yellow')\n",
    "obj3=Car('Ferrari','Red')"
   ]
  },
  {
   "cell_type": "code",
   "execution_count": 2,
   "id": "11ef2f63-654a-4376-98e3-9a3aa7161814",
   "metadata": {},
   "outputs": [
    {
     "data": {
      "text/plain": [
       "'Mercedes'"
      ]
     },
     "execution_count": 2,
     "metadata": {},
     "output_type": "execute_result"
    }
   ],
   "source": [
    "obj1.brand"
   ]
  },
  {
   "cell_type": "code",
   "execution_count": 3,
   "id": "5716c29f-4ce8-4d46-a0e8-b829b8980864",
   "metadata": {},
   "outputs": [
    {
     "data": {
      "text/plain": [
       "'Black'"
      ]
     },
     "execution_count": 3,
     "metadata": {},
     "output_type": "execute_result"
    }
   ],
   "source": [
    "obj1.color"
   ]
  },
  {
   "cell_type": "code",
   "execution_count": 4,
   "id": "a2d6807b-2152-4a51-95a8-17b264980de8",
   "metadata": {},
   "outputs": [
    {
     "data": {
      "text/plain": [
       "'Red'"
      ]
     },
     "execution_count": 4,
     "metadata": {},
     "output_type": "execute_result"
    }
   ],
   "source": [
    "obj3.color"
   ]
  },
  {
   "cell_type": "code",
   "execution_count": 5,
   "id": "25a37032-6fc6-43f2-94d6-14b20b653ae8",
   "metadata": {},
   "outputs": [
    {
     "data": {
      "text/plain": [
       "'Ferrari'"
      ]
     },
     "execution_count": 5,
     "metadata": {},
     "output_type": "execute_result"
    }
   ],
   "source": [
    "obj3.brand"
   ]
  },
  {
   "cell_type": "code",
   "execution_count": 6,
   "id": "d63b90bf-f201-4de2-9c7b-b89977759d48",
   "metadata": {},
   "outputs": [
    {
     "data": {
      "text/plain": [
       "'Porche'"
      ]
     },
     "execution_count": 6,
     "metadata": {},
     "output_type": "execute_result"
    }
   ],
   "source": [
    "obj2.brand"
   ]
  },
  {
   "cell_type": "code",
   "execution_count": 9,
   "id": "cf0a0fb5-480e-4e78-be1c-6b21b096570e",
   "metadata": {},
   "outputs": [
    {
     "data": {
      "text/plain": [
       "'Yellow'"
      ]
     },
     "execution_count": 9,
     "metadata": {},
     "output_type": "execute_result"
    }
   ],
   "source": [
    "obj2.color"
   ]
  },
  {
   "cell_type": "markdown",
   "id": "3bfcf96e-8e11-44bc-9398-1c191dbeb0ec",
   "metadata": {},
   "source": [
    "Create a class 'Person' with attributes such as 'Name','Age','Qualification' and 'Hobby'"
   ]
  },
  {
   "cell_type": "code",
   "execution_count": 10,
   "id": "e4e0628c-e698-4012-a6a4-90ece364b9bc",
   "metadata": {},
   "outputs": [],
   "source": [
    "#definining a class\n",
    "class Person:\n",
    "    def __init__(self,name,age,qualification,hobby): \n",
    "        self.name=name\n",
    "        self.age=age \n",
    "        self.qualification=qualification\n",
    "        self.hobby=hobby\n",
    "\n",
    "#defining objects\n",
    "obj1=Person('Aashutosh',99,'MTech','Teaching')"
   ]
  },
  {
   "cell_type": "code",
   "execution_count": 11,
   "id": "0990e608-56c7-499f-995f-a71c51e94686",
   "metadata": {},
   "outputs": [
    {
     "data": {
      "text/plain": [
       "'Aashutosh'"
      ]
     },
     "execution_count": 11,
     "metadata": {},
     "output_type": "execute_result"
    }
   ],
   "source": [
    "obj1.name"
   ]
  },
  {
   "cell_type": "code",
   "execution_count": 12,
   "id": "dbf7d65d-3d60-4c6f-865d-c23ef2f66540",
   "metadata": {},
   "outputs": [
    {
     "data": {
      "text/plain": [
       "'Teaching'"
      ]
     },
     "execution_count": 12,
     "metadata": {},
     "output_type": "execute_result"
    }
   ],
   "source": [
    "obj1.hobby"
   ]
  },
  {
   "cell_type": "code",
   "execution_count": 13,
   "id": "3564791f-68d7-4082-bb6e-a981604b417d",
   "metadata": {},
   "outputs": [
    {
     "data": {
      "text/plain": [
       "'MTech'"
      ]
     },
     "execution_count": 13,
     "metadata": {},
     "output_type": "execute_result"
    }
   ],
   "source": [
    "obj1.qualification"
   ]
  },
  {
   "cell_type": "markdown",
   "id": "568a35a9-0ddf-440a-a11b-7ada51c34104",
   "metadata": {},
   "source": [
    "Inheritance\n",
    "\n",
    "Polymorphism\n",
    "\n",
    "Encapsulation\n",
    "\n",
    "Abstraction"
   ]
  },
  {
   "cell_type": "markdown",
   "id": "5cc0993f-f52b-487e-9fb1-c9315f2b748e",
   "metadata": {},
   "source": [
    "Inheritance\n",
    "\n",
    "- Single Level Inheritance\n",
    "\n",
    "- Multi Level Inheritance\n",
    "\n",
    "- Multiple Inheritance"
   ]
  },
  {
   "cell_type": "code",
   "execution_count": 1,
   "id": "7f0e98d7-57e6-4cc8-8ce2-eaaabd815b09",
   "metadata": {},
   "outputs": [],
   "source": [
    "#Single Level Inheritance\n",
    "\n",
    "class Animal: #parent class\n",
    "\n",
    "    def __init__(self,name):\n",
    "        self.name=name\n",
    "\n",
    "    def eat(self):\n",
    "        print(self.name+\"likes to eat\")\n",
    "\n",
    "class Dog(Animal): #child class \n",
    "\n",
    "    def __init__(self,name,breed):\n",
    "        super().__init__(name) #super() will call the __init__ method of the Animal class\n",
    "        self.breed=breed"
   ]
  },
  {
   "cell_type": "code",
   "execution_count": 2,
   "id": "429739dc-1e98-4134-9fd9-c51e5f85c213",
   "metadata": {},
   "outputs": [],
   "source": [
    "obj1=Dog(\"Buddy\",\"GoldenRetriever\")"
   ]
  },
  {
   "cell_type": "code",
   "execution_count": 4,
   "id": "1c3adb0c-71cb-448d-a639-7c1bdcf4ec0c",
   "metadata": {},
   "outputs": [
    {
     "data": {
      "text/plain": [
       "'GoldenRetriever'"
      ]
     },
     "execution_count": 4,
     "metadata": {},
     "output_type": "execute_result"
    }
   ],
   "source": [
    "obj1.breed"
   ]
  },
  {
   "cell_type": "code",
   "execution_count": 5,
   "id": "a36f472c-d6e3-4f83-bbc7-41ab68b3ddca",
   "metadata": {},
   "outputs": [
    {
     "name": "stdout",
     "output_type": "stream",
     "text": [
      "Buddylikes to eat\n"
     ]
    }
   ],
   "source": [
    "obj1.eat()"
   ]
  },
  {
   "cell_type": "code",
   "execution_count": 6,
   "id": "db54615a-df08-4ba5-8a5d-602cd086b69f",
   "metadata": {},
   "outputs": [],
   "source": [
    "class Employee: #Parent class\n",
    "\n",
    "    def __init__(self,name,salary):\n",
    "        self.name=name\n",
    "        self.salary=salary\n",
    "\n",
    "    def get_details(self):\n",
    "        print(\"Hi\",self.name,\"your salary is\",self.salary)\n",
    "\n",
    "class Manager(Employee): #child class\n",
    "\n",
    "    def __init__(self,name,salary,department):\n",
    "        super().__init__(name,salary)\n",
    "        self.department=department"
   ]
  },
  {
   "cell_type": "code",
   "execution_count": 17,
   "id": "07759117-4ab4-4f2c-94ea-b1c0edd51bf7",
   "metadata": {},
   "outputs": [],
   "source": [
    "a=Employee(\"John\",50000)"
   ]
  },
  {
   "cell_type": "code",
   "execution_count": 19,
   "id": "027f1996-a863-498c-8b7b-ae0e7bec56bd",
   "metadata": {},
   "outputs": [
    {
     "data": {
      "text/plain": [
       "50000"
      ]
     },
     "execution_count": 19,
     "metadata": {},
     "output_type": "execute_result"
    }
   ],
   "source": [
    "a.salary"
   ]
  },
  {
   "cell_type": "code",
   "execution_count": 20,
   "id": "cd4cc485-7f54-462b-9795-d834b39bf919",
   "metadata": {},
   "outputs": [
    {
     "name": "stdout",
     "output_type": "stream",
     "text": [
      "Hi John your salary is 50000\n"
     ]
    }
   ],
   "source": [
    "a.get_details()"
   ]
  },
  {
   "cell_type": "code",
   "execution_count": 7,
   "id": "f52a7bfd-9e03-4b6c-a6b5-9d4fcb15b853",
   "metadata": {},
   "outputs": [],
   "source": [
    "p=Manager('Alex',20000,'IT')"
   ]
  },
  {
   "cell_type": "code",
   "execution_count": 10,
   "id": "1fa91863-5322-4480-a3e1-381bf399d5ba",
   "metadata": {},
   "outputs": [
    {
     "data": {
      "text/plain": [
       "'IT'"
      ]
     },
     "execution_count": 10,
     "metadata": {},
     "output_type": "execute_result"
    }
   ],
   "source": [
    "p.department"
   ]
  },
  {
   "cell_type": "code",
   "execution_count": 11,
   "id": "d2fb6157-e3fb-4bee-817e-ecd9fd0e4a71",
   "metadata": {},
   "outputs": [
    {
     "name": "stdout",
     "output_type": "stream",
     "text": [
      "Hi Alex your salary is 20000\n"
     ]
    }
   ],
   "source": [
    "p.get_details()"
   ]
  },
  {
   "cell_type": "code",
   "execution_count": 12,
   "id": "5414c849-fcac-49c4-a350-333d2d698f10",
   "metadata": {},
   "outputs": [],
   "source": [
    "q=Manager('Catherine',40000,'HumanResource')"
   ]
  },
  {
   "cell_type": "code",
   "execution_count": 15,
   "id": "c6d83af3-79be-43e4-a550-cf20b381975f",
   "metadata": {},
   "outputs": [
    {
     "data": {
      "text/plain": [
       "'Catherine'"
      ]
     },
     "execution_count": 15,
     "metadata": {},
     "output_type": "execute_result"
    }
   ],
   "source": [
    "q.name"
   ]
  },
  {
   "cell_type": "code",
   "execution_count": 16,
   "id": "bde7c28a-c8a5-404e-ae4c-833ec487a7d0",
   "metadata": {},
   "outputs": [
    {
     "name": "stdout",
     "output_type": "stream",
     "text": [
      "Hi Catherine your salary is 40000\n"
     ]
    }
   ],
   "source": [
    "q.get_details()"
   ]
  },
  {
   "cell_type": "markdown",
   "id": "2990f4af-a163-4454-8b03-c80aefbb8878",
   "metadata": {},
   "source": [
    "- Create a parent class \"Person\" with attributes such as \"name\" and \"age\" and a method which displays the name and age of the person\n",
    "\n",
    "- Create a child class \"Student\" which inherits the methods from the parent class and has attributes such as \"name\",\"age\" and \"student_id\""
   ]
  },
  {
   "cell_type": "code",
   "execution_count": 21,
   "id": "9d520c01-7d3a-449c-aced-b2737455ca40",
   "metadata": {},
   "outputs": [],
   "source": [
    "class Person:\n",
    "\n",
    "    def __init__(self,name,age):\n",
    "        self.name=name\n",
    "        self.age=age\n",
    "\n",
    "    def details(self):\n",
    "        print(\"Hi\",self.name,\" your age is\",self.age)\n",
    "\n",
    "class Student(Person):\n",
    "\n",
    "    def __init__(self,name,age,student_id):\n",
    "        super().__init__(name,age)\n",
    "        self.student_id=student_id"
   ]
  },
  {
   "cell_type": "code",
   "execution_count": 23,
   "id": "d28d6e3b-8413-4d41-a41b-5f00214a4a30",
   "metadata": {},
   "outputs": [],
   "source": [
    "s1=Student('Marco',19,2036)"
   ]
  },
  {
   "cell_type": "code",
   "execution_count": 25,
   "id": "cc4fc717-3ba9-4ff4-bd92-3741451b2d81",
   "metadata": {},
   "outputs": [
    {
     "data": {
      "text/plain": [
       "2036"
      ]
     },
     "execution_count": 25,
     "metadata": {},
     "output_type": "execute_result"
    }
   ],
   "source": [
    "s1.student_id"
   ]
  },
  {
   "cell_type": "code",
   "execution_count": 26,
   "id": "e2feb1a8-8c04-49c9-b6f7-dd5e4ff95f55",
   "metadata": {},
   "outputs": [
    {
     "name": "stdout",
     "output_type": "stream",
     "text": [
      "Hi Marco  your age is 19\n"
     ]
    }
   ],
   "source": [
    "s1.details()"
   ]
  },
  {
   "cell_type": "code",
   "execution_count": 27,
   "id": "4d93756e-1ff3-484a-b121-f41bf057eb7d",
   "metadata": {},
   "outputs": [],
   "source": [
    "#Multi Level Inheritance\n",
    "\n",
    "class Animal: #parent class of Dog\n",
    "\n",
    "    def __init__(self,name):\n",
    "        self.name=name\n",
    "\n",
    "    def eat(self):\n",
    "        print(self.name+\"likes to eat\")\n",
    "\n",
    "class Dog(Animal): #child class of Animal and Parent class of Pet\n",
    "\n",
    "    def __init__(self,name,breed):\n",
    "        super().__init__(name) #super() will call the __init__ method of the Animal class\n",
    "        self.breed=breed\n",
    "\n",
    "class Pet(Dog):\n",
    "\n",
    "    def __init__(self,name,breed,ownername):\n",
    "        super().__init__(name,breed)\n",
    "        self.ownername=ownername"
   ]
  },
  {
   "cell_type": "code",
   "execution_count": 28,
   "id": "eef2724f-ad38-474c-90ad-cbd3c5bb40ce",
   "metadata": {},
   "outputs": [],
   "source": [
    "p1=Pet('Spike','Labrador','Mike')"
   ]
  },
  {
   "cell_type": "code",
   "execution_count": 29,
   "id": "fabe7a92-e984-49bf-8c71-99f5de3baddb",
   "metadata": {},
   "outputs": [
    {
     "data": {
      "text/plain": [
       "'Labrador'"
      ]
     },
     "execution_count": 29,
     "metadata": {},
     "output_type": "execute_result"
    }
   ],
   "source": [
    "p1.breed"
   ]
  },
  {
   "cell_type": "code",
   "execution_count": 30,
   "id": "c9b098d9-224e-40d1-ae5f-bd78d5c9cad5",
   "metadata": {},
   "outputs": [
    {
     "data": {
      "text/plain": [
       "'Mike'"
      ]
     },
     "execution_count": 30,
     "metadata": {},
     "output_type": "execute_result"
    }
   ],
   "source": [
    "p1.ownername"
   ]
  },
  {
   "cell_type": "code",
   "execution_count": 31,
   "id": "17a9d378-19c1-4066-9a0c-7fb48b21ad65",
   "metadata": {},
   "outputs": [
    {
     "data": {
      "text/plain": [
       "'Spike'"
      ]
     },
     "execution_count": 31,
     "metadata": {},
     "output_type": "execute_result"
    }
   ],
   "source": [
    "p1.name"
   ]
  },
  {
   "cell_type": "code",
   "execution_count": 32,
   "id": "97fd93e3-3882-424a-bfaf-a9e61bd201e7",
   "metadata": {},
   "outputs": [
    {
     "name": "stdout",
     "output_type": "stream",
     "text": [
      "Spikelikes to eat\n"
     ]
    }
   ],
   "source": [
    "p1.eat()"
   ]
  },
  {
   "cell_type": "code",
   "execution_count": 36,
   "id": "aaa9ae49-037d-4904-bed1-04d4b6fa7464",
   "metadata": {},
   "outputs": [
    {
     "name": "stdout",
     "output_type": "stream",
     "text": [
      "tom like to eat\n"
     ]
    }
   ],
   "source": [
    "obj1.eat()"
   ]
  },
  {
   "cell_type": "markdown",
   "id": "bac9a6e2-4673-4463-a745-5ad9d291b99f",
   "metadata": {},
   "source": [
    "- Create a class \"Vehicle\" with attribute \"brand\" and a method which talks about the transmission type - automatic or manual\n",
    "\n",
    "- Create child class \"Car\" with attributes \"brand\" and \"Model\"\n",
    "\n",
    "- Create another child class \"SportsCar\" with attributes \"brand\", \"model\", \"color\" and \"doors\""
   ]
  },
  {
   "cell_type": "code",
   "execution_count": 38,
   "id": "14e6daae-a1d1-4fef-ac92-cf9c63b96bc5",
   "metadata": {},
   "outputs": [],
   "source": [
    "class Vehicle:\n",
    "\n",
    "    def __init__(self,brand):\n",
    "        self.brand=brand\n",
    "\n",
    "    def transmission(self):\n",
    "        print(\"the transmission type is automatic\")\n",
    "\n",
    "class Car(Vehicle):\n",
    "\n",
    "    def __init__(self,brand,model):\n",
    "        super().__init__(brand)\n",
    "        self.model=model\n",
    "\n",
    "class SportsCar(Car):\n",
    "\n",
    "    def __init__(self,brand,model,color,doors):\n",
    "        super().__init__(brand,model)\n",
    "        self.color=color\n",
    "        self.doors=doors"
   ]
  },
  {
   "cell_type": "code",
   "execution_count": 39,
   "id": "c9e3efc1-62e8-4723-8f7d-d9fa1a0502e0",
   "metadata": {},
   "outputs": [],
   "source": [
    "s1=SportsCar('Audi','A6','White',2)"
   ]
  },
  {
   "cell_type": "code",
   "execution_count": 42,
   "id": "e5564043-bbac-4476-9fee-b54da83e07f5",
   "metadata": {},
   "outputs": [
    {
     "data": {
      "text/plain": [
       "'A6'"
      ]
     },
     "execution_count": 42,
     "metadata": {},
     "output_type": "execute_result"
    }
   ],
   "source": [
    "s1.model"
   ]
  },
  {
   "cell_type": "code",
   "execution_count": 43,
   "id": "75ed043f-f5d1-4273-b14b-0620acd5157a",
   "metadata": {},
   "outputs": [
    {
     "name": "stdout",
     "output_type": "stream",
     "text": [
      "the transmission type is automatic\n"
     ]
    }
   ],
   "source": [
    "s1.transmission()"
   ]
  },
  {
   "cell_type": "code",
   "execution_count": 53,
   "id": "c7a03ebe-86b4-4cf9-9eea-f7515d39023c",
   "metadata": {},
   "outputs": [],
   "source": [
    "#Multiple Inheritance\n",
    "\n",
    "class A: #parent class\n",
    "\n",
    "    def method(self):\n",
    "        print(\"Hello from A\")\n",
    "\n",
    "class B: #parent class\n",
    "\n",
    "    def method(self):\n",
    "        print(\"Hello from B\")\n",
    "\n",
    "class C(A,B): #child class \n",
    "\n",
    "    def method(self):\n",
    "        print(\"Hello from C\")"
   ]
  },
  {
   "cell_type": "code",
   "execution_count": 54,
   "id": "101e486c-a9d0-4f19-85ac-6c6b1ea5a33b",
   "metadata": {},
   "outputs": [],
   "source": [
    "c=C()"
   ]
  },
  {
   "cell_type": "code",
   "execution_count": 55,
   "id": "5c8e1519-a445-4888-a7aa-5f774a7d2921",
   "metadata": {},
   "outputs": [
    {
     "name": "stdout",
     "output_type": "stream",
     "text": [
      "Hello from C\n"
     ]
    }
   ],
   "source": [
    "c.method() #M.R.O - Method Resolution Order "
   ]
  },
  {
   "cell_type": "code",
   "execution_count": 56,
   "id": "f2c69b91-3a58-4f8a-a73d-a2563a8ea049",
   "metadata": {},
   "outputs": [],
   "source": [
    "#Multiple Inheritance\n",
    "\n",
    "class A: #parent class\n",
    "\n",
    "    def method(self):\n",
    "        print(\"Hello from A\")\n",
    "\n",
    "class B: #parent class\n",
    "\n",
    "    def method(self):\n",
    "        print(\"Hello from B\")\n",
    "\n",
    "class C(A,B): #child class \n",
    "\n",
    "    def method_(self):\n",
    "        print(\"Hello from C\")"
   ]
  },
  {
   "cell_type": "code",
   "execution_count": 57,
   "id": "5ef09732-6564-4546-b6e1-d18454c4726a",
   "metadata": {},
   "outputs": [],
   "source": [
    "c=C()"
   ]
  },
  {
   "cell_type": "code",
   "execution_count": 58,
   "id": "724a11a7-1364-4e81-81b9-7a23777319d5",
   "metadata": {},
   "outputs": [
    {
     "name": "stdout",
     "output_type": "stream",
     "text": [
      "Hello from A\n"
     ]
    }
   ],
   "source": [
    "c.method()"
   ]
  },
  {
   "cell_type": "code",
   "execution_count": 60,
   "id": "fa620ae0-1931-41e4-8cd2-c644db1efdb0",
   "metadata": {},
   "outputs": [],
   "source": [
    "#Multiple Inheritance\n",
    "\n",
    "class A: #parent class\n",
    "\n",
    "    def method__(self):\n",
    "        print(\"Hello from A\")\n",
    "\n",
    "class B: #parent class\n",
    "\n",
    "    def method(self):\n",
    "        print(\"Hello from B\")\n",
    "\n",
    "class C(A,B): #child class \n",
    "\n",
    "    def method_(self):\n",
    "        print(\"Hello from C\")"
   ]
  },
  {
   "cell_type": "code",
   "execution_count": 61,
   "id": "d408bc3c-6a72-4131-b2f7-b1441948bc11",
   "metadata": {},
   "outputs": [],
   "source": [
    "c=C()"
   ]
  },
  {
   "cell_type": "code",
   "execution_count": 62,
   "id": "fcc412b2-fca4-4ce3-b695-cbf44a1ed5e8",
   "metadata": {},
   "outputs": [
    {
     "name": "stdout",
     "output_type": "stream",
     "text": [
      "Hello from B\n"
     ]
    }
   ],
   "source": [
    "c.method()"
   ]
  },
  {
   "cell_type": "code",
   "execution_count": 64,
   "id": "4019a6be-8d77-4855-b0ec-08f5fbaa828d",
   "metadata": {},
   "outputs": [
    {
     "data": {
      "text/plain": [
       "(__main__.C, __main__.A, __main__.B, object)"
      ]
     },
     "execution_count": 64,
     "metadata": {},
     "output_type": "execute_result"
    }
   ],
   "source": [
    "C.__mro__"
   ]
  },
  {
   "cell_type": "markdown",
   "id": "4c532d6c-3c00-4ada-b380-5d35e5c585b4",
   "metadata": {},
   "source": [
    "Encapsulation"
   ]
  },
  {
   "cell_type": "code",
   "execution_count": 21,
   "id": "04b65678-aec1-4205-a018-267e92e4aa74",
   "metadata": {},
   "outputs": [],
   "source": [
    "class Person:\n",
    "\n",
    "    def __init__(self,name,age,salary):\n",
    "        self.name=name #public attribute \n",
    "        self.age=age #pubic attribute \n",
    "        self.__salary=salary #private attribute .__ \n",
    "\n",
    "    def salary(self):\n",
    "        print(\"Your salary is\",self.__salary)"
   ]
  },
  {
   "cell_type": "code",
   "execution_count": 22,
   "id": "5e9958a3-26d7-4d72-92a4-238b405d4143",
   "metadata": {},
   "outputs": [],
   "source": [
    "obj1=Person('Aashutosh',99,10000)"
   ]
  },
  {
   "cell_type": "code",
   "execution_count": 23,
   "id": "b33d1a1b-fb1c-4c02-85d0-43ef4bdcf7a2",
   "metadata": {},
   "outputs": [
    {
     "data": {
      "text/plain": [
       "99"
      ]
     },
     "execution_count": 23,
     "metadata": {},
     "output_type": "execute_result"
    }
   ],
   "source": [
    "obj1.age"
   ]
  },
  {
   "cell_type": "code",
   "execution_count": 24,
   "id": "5037863c-8955-4693-b3d1-efbd75f30f06",
   "metadata": {},
   "outputs": [
    {
     "data": {
      "text/plain": [
       "<bound method Person.salary of <__main__.Person object at 0x0000026F112269D0>>"
      ]
     },
     "execution_count": 24,
     "metadata": {},
     "output_type": "execute_result"
    }
   ],
   "source": [
    "obj1.salary"
   ]
  },
  {
   "cell_type": "code",
   "execution_count": 25,
   "id": "ec056f08-8a84-458e-9b52-0dd8b9f2aa1c",
   "metadata": {},
   "outputs": [
    {
     "ename": "AttributeError",
     "evalue": "'Person' object has no attribute '__salary'",
     "output_type": "error",
     "traceback": [
      "\u001b[1;31m---------------------------------------------------------------------------\u001b[0m",
      "\u001b[1;31mAttributeError\u001b[0m                            Traceback (most recent call last)",
      "Cell \u001b[1;32mIn[25], line 1\u001b[0m\n\u001b[1;32m----> 1\u001b[0m obj1\u001b[38;5;241m.\u001b[39m__salary\n",
      "\u001b[1;31mAttributeError\u001b[0m: 'Person' object has no attribute '__salary'"
     ]
    }
   ],
   "source": [
    "obj1.__salary"
   ]
  },
  {
   "cell_type": "code",
   "execution_count": 26,
   "id": "2aa6c661-3061-401a-895e-f204296ca873",
   "metadata": {},
   "outputs": [
    {
     "name": "stdout",
     "output_type": "stream",
     "text": [
      "Your salary is 10000\n"
     ]
    }
   ],
   "source": [
    "obj1.salary() #able to access the private attribute only via the salary() method "
   ]
  },
  {
   "cell_type": "markdown",
   "id": "ce379909-c453-404a-ac27-6f6b79ab8e26",
   "metadata": {},
   "source": [
    "- Create a class 'BankAccount' which takes two attributes 'a/c number' and 'pin code'\n",
    "\n",
    "- Make 'pin code' as a private method and fetch the value using a separate method"
   ]
  },
  {
   "cell_type": "code",
   "execution_count": 29,
   "id": "05e68a20-aabb-40bd-89cb-64643db60756",
   "metadata": {},
   "outputs": [],
   "source": [
    "class BankAccount:\n",
    "\n",
    "    def __init__(self,ac_number, pin):\n",
    "        self.ac_number=ac_number\n",
    "        self.__pin=pin\n",
    "\n",
    "    def my_pin(self):\n",
    "        print(\"My pin code is\",self.__pin)"
   ]
  },
  {
   "cell_type": "code",
   "execution_count": 31,
   "id": "a6c64e12-688c-49b1-bea4-7184e66dc552",
   "metadata": {},
   "outputs": [],
   "source": [
    "obj1=BankAccount(12344321,3456)"
   ]
  },
  {
   "cell_type": "code",
   "execution_count": 32,
   "id": "3ba5b32e-d5a3-4ac5-a3e2-e984cf210438",
   "metadata": {},
   "outputs": [
    {
     "data": {
      "text/plain": [
       "12344321"
      ]
     },
     "execution_count": 32,
     "metadata": {},
     "output_type": "execute_result"
    }
   ],
   "source": [
    "obj1.ac_number"
   ]
  },
  {
   "cell_type": "code",
   "execution_count": 34,
   "id": "5f379edc-e4ba-4f85-8aab-a5a8894d7fcf",
   "metadata": {},
   "outputs": [
    {
     "ename": "AttributeError",
     "evalue": "'BankAccount' object has no attribute 'pin'",
     "output_type": "error",
     "traceback": [
      "\u001b[1;31m---------------------------------------------------------------------------\u001b[0m",
      "\u001b[1;31mAttributeError\u001b[0m                            Traceback (most recent call last)",
      "Cell \u001b[1;32mIn[34], line 1\u001b[0m\n\u001b[1;32m----> 1\u001b[0m obj1\u001b[38;5;241m.\u001b[39mpin\n",
      "\u001b[1;31mAttributeError\u001b[0m: 'BankAccount' object has no attribute 'pin'"
     ]
    }
   ],
   "source": [
    "obj1.pin"
   ]
  },
  {
   "cell_type": "code",
   "execution_count": 35,
   "id": "bf00efac-d72f-461c-a7b7-611a2ffdcc6b",
   "metadata": {},
   "outputs": [
    {
     "ename": "AttributeError",
     "evalue": "'BankAccount' object has no attribute '__pin'",
     "output_type": "error",
     "traceback": [
      "\u001b[1;31m---------------------------------------------------------------------------\u001b[0m",
      "\u001b[1;31mAttributeError\u001b[0m                            Traceback (most recent call last)",
      "Cell \u001b[1;32mIn[35], line 1\u001b[0m\n\u001b[1;32m----> 1\u001b[0m obj1\u001b[38;5;241m.\u001b[39m__pin\n",
      "\u001b[1;31mAttributeError\u001b[0m: 'BankAccount' object has no attribute '__pin'"
     ]
    }
   ],
   "source": [
    "obj1.__pin"
   ]
  },
  {
   "cell_type": "code",
   "execution_count": 36,
   "id": "2b40b26e-92f3-4377-b0a9-7f47817e58f6",
   "metadata": {},
   "outputs": [
    {
     "name": "stdout",
     "output_type": "stream",
     "text": [
      "My pin code is 3456\n"
     ]
    }
   ],
   "source": [
    "obj1.my_pin()"
   ]
  },
  {
   "cell_type": "code",
   "execution_count": 37,
   "id": "dbfc8bf5-cee4-44f3-bf22-548bbf48b64e",
   "metadata": {},
   "outputs": [],
   "source": [
    "class BankAccount:\n",
    "\n",
    "    def __init__(self,owner,balance):\n",
    "        self.owner=owner\n",
    "        self.__balance=balance #private attribute \n",
    "\n",
    "    def deposits(self,amount):\n",
    "        if amount>0:\n",
    "            self.__balance=self.__balance+amount\n",
    "        else:\n",
    "            print(\"Invalid deposit amount\")\n",
    "\n",
    "    def withdraw(self,amount):\n",
    "        if 0<amount<=self.__balance:\n",
    "            self.__balance=self.__balance-amount\n",
    "        else:\n",
    "            print(\"Invalid withdraw amount\")\n",
    "\n",
    "    def get_balance(self):\n",
    "        print(\"your current balance is\",self.__balance)"
   ]
  },
  {
   "cell_type": "code",
   "execution_count": 38,
   "id": "84ac2f29-f095-4be0-bb68-417a237f7009",
   "metadata": {},
   "outputs": [],
   "source": [
    "ac=BankAccount(\"Aashutosh\",10000)"
   ]
  },
  {
   "cell_type": "code",
   "execution_count": 39,
   "id": "965a545f-713d-4373-9a98-abeb65d847f9",
   "metadata": {},
   "outputs": [
    {
     "data": {
      "text/plain": [
       "'Aashutosh'"
      ]
     },
     "execution_count": 39,
     "metadata": {},
     "output_type": "execute_result"
    }
   ],
   "source": [
    "ac.owner"
   ]
  },
  {
   "cell_type": "code",
   "execution_count": 43,
   "id": "72143e79-2beb-4322-b08f-ee7128ed2749",
   "metadata": {},
   "outputs": [
    {
     "ename": "AttributeError",
     "evalue": "'BankAccount' object has no attribute '__balance'",
     "output_type": "error",
     "traceback": [
      "\u001b[1;31m---------------------------------------------------------------------------\u001b[0m",
      "\u001b[1;31mAttributeError\u001b[0m                            Traceback (most recent call last)",
      "Cell \u001b[1;32mIn[43], line 1\u001b[0m\n\u001b[1;32m----> 1\u001b[0m ac\u001b[38;5;241m.\u001b[39m__balance\n",
      "\u001b[1;31mAttributeError\u001b[0m: 'BankAccount' object has no attribute '__balance'"
     ]
    }
   ],
   "source": [
    "ac.__balance"
   ]
  },
  {
   "cell_type": "code",
   "execution_count": 42,
   "id": "7d165636-5bec-41f4-a8ac-15aa4fd8f3b0",
   "metadata": {},
   "outputs": [],
   "source": [
    "ac.deposits(1000) "
   ]
  },
  {
   "cell_type": "code",
   "execution_count": 44,
   "id": "ec809834-c2dc-4034-be3e-df92aab0949b",
   "metadata": {},
   "outputs": [
    {
     "name": "stdout",
     "output_type": "stream",
     "text": [
      "your current balance is 11000\n"
     ]
    }
   ],
   "source": [
    "ac.get_balance() #updated balance = 10000+1000=11000 "
   ]
  },
  {
   "cell_type": "code",
   "execution_count": 45,
   "id": "33183681-6f83-4529-bddd-179df808f088",
   "metadata": {},
   "outputs": [],
   "source": [
    "ac.withdraw(500)"
   ]
  },
  {
   "cell_type": "code",
   "execution_count": 46,
   "id": "c5da55a5-8566-4e73-9156-eef10a5e6771",
   "metadata": {},
   "outputs": [
    {
     "name": "stdout",
     "output_type": "stream",
     "text": [
      "your current balance is 10500\n"
     ]
    }
   ],
   "source": [
    "ac.get_balance() #updated balance = 11000-500=10500"
   ]
  },
  {
   "cell_type": "markdown",
   "id": "add8ddc8-c5c3-4c1b-ad27-4de7e6a900db",
   "metadata": {},
   "source": [
    "Getter() - to access, Setter() - to modify"
   ]
  },
  {
   "cell_type": "code",
   "execution_count": 50,
   "id": "e22335d9-cadd-4615-8db1-1f871621f545",
   "metadata": {},
   "outputs": [],
   "source": [
    "class Car:\n",
    "\n",
    "    def __init__(self,model,color,price):\n",
    "        self.model=model\n",
    "        self.color=color\n",
    "        self.__price=price\n",
    "\n",
    "    def get_price(self): #getter() - allows us to fetch the private attributes\n",
    "        print(\"the price of this car is\",self.__price)\n",
    "\n",
    "    def set_price(self,price): #setter() - allows us to modify the value associates with private attributes\n",
    "        if price>0:\n",
    "            self.__price=price\n",
    "        else:\n",
    "            print(\"Invalid price\")"
   ]
  },
  {
   "cell_type": "code",
   "execution_count": 51,
   "id": "0111895f-3624-4ebf-aca6-0d13cc277f2e",
   "metadata": {},
   "outputs": [],
   "source": [
    "car=Car('Tesla','Red',50000)"
   ]
  },
  {
   "cell_type": "code",
   "execution_count": 52,
   "id": "65f94162-2d9e-4156-b7f3-2dd1c512e10e",
   "metadata": {},
   "outputs": [
    {
     "name": "stdout",
     "output_type": "stream",
     "text": [
      "the price of this car is 50000\n"
     ]
    }
   ],
   "source": [
    "car.get_price()"
   ]
  },
  {
   "cell_type": "code",
   "execution_count": 53,
   "id": "6e4136d8-269e-4a64-8b88-08bbf2cce015",
   "metadata": {},
   "outputs": [],
   "source": [
    "car.set_price(1000000)"
   ]
  },
  {
   "cell_type": "code",
   "execution_count": 54,
   "id": "1cd15da4-c6ad-4038-a802-a091e3fbd9d9",
   "metadata": {},
   "outputs": [
    {
     "name": "stdout",
     "output_type": "stream",
     "text": [
      "the price of this car is 1000000\n"
     ]
    }
   ],
   "source": [
    "car.get_price()"
   ]
  },
  {
   "cell_type": "markdown",
   "id": "c809a5a1-15a1-42cb-bb60-1109e0a47eb3",
   "metadata": {},
   "source": [
    "- Create a class 'Employee' with attributes such as 'name' and 'salary'\n",
    "\n",
    "- Keep the 'salary' as a private attribute and create a method to view the private attribute (getter())\n",
    "\n",
    "- Create a method to give a raise in the salary to the employee if the salary is valid (setter())"
   ]
  },
  {
   "cell_type": "code",
   "execution_count": 55,
   "id": "acb4e101-5bb2-4eb2-b5a0-e059ee565a02",
   "metadata": {},
   "outputs": [],
   "source": [
    "class Employee:\n",
    "\n",
    "    def __init__(self,name,salary):\n",
    "        self.name=name\n",
    "        self.__salary=salary\n",
    "\n",
    "    def show_salary(self): #getter()\n",
    "        print(\"your salary is\",self.__salary)\n",
    "\n",
    "    def raise_salary(self,amount):\n",
    "        if amount>0:\n",
    "            self.__salary=self.__salary+amount\n",
    "        else:\n",
    "            print(\"invalid salary\")"
   ]
  },
  {
   "cell_type": "code",
   "execution_count": 56,
   "id": "1351ee37-1fd3-4dec-9ae5-e6f4909fc7ac",
   "metadata": {},
   "outputs": [],
   "source": [
    "emp=Employee(\"Aashutosh\",10000)"
   ]
  },
  {
   "cell_type": "code",
   "execution_count": 57,
   "id": "c49ca148-9072-49f4-a9ee-e8760821a08d",
   "metadata": {},
   "outputs": [
    {
     "name": "stdout",
     "output_type": "stream",
     "text": [
      "your salary is 10000\n"
     ]
    }
   ],
   "source": [
    "emp.show_salary()"
   ]
  },
  {
   "cell_type": "code",
   "execution_count": 58,
   "id": "13688efd-9814-4584-a398-bd4e863ff51a",
   "metadata": {},
   "outputs": [],
   "source": [
    "emp.raise_salary(5000)"
   ]
  },
  {
   "cell_type": "code",
   "execution_count": 60,
   "id": "f5b90f52-6a30-4d01-b6a8-bdde7e91a991",
   "metadata": {},
   "outputs": [
    {
     "name": "stdout",
     "output_type": "stream",
     "text": [
      "your salary is 15000\n"
     ]
    }
   ],
   "source": [
    "emp.show_salary() #incremented salary=10000+5000=15000"
   ]
  },
  {
   "cell_type": "markdown",
   "id": "b131d3a6-aa76-4820-9e9c-2504ddbcf090",
   "metadata": {},
   "source": [
    "Polymorphism - having multiple forms"
   ]
  },
  {
   "cell_type": "code",
   "execution_count": 8,
   "id": "815fcf6e-83dc-424c-a841-2242f25444d1",
   "metadata": {},
   "outputs": [],
   "source": [
    "class Cat:\n",
    "    def sound(self):\n",
    "        print(\"Meow\")\n",
    "\n",
    "class Dog:\n",
    "    def sound(self):\n",
    "        print(\"Bark\")\n",
    "\n",
    "class Bird:\n",
    "    def sound(self):\n",
    "        print(\"chirp\")\n",
    "\n",
    "def animal_sound(animal):\n",
    "    print(animal.sound())"
   ]
  },
  {
   "cell_type": "code",
   "execution_count": 10,
   "id": "8db44981-6065-49e8-8e08-9d0e330035bf",
   "metadata": {},
   "outputs": [],
   "source": [
    "cat=Cat()"
   ]
  },
  {
   "cell_type": "code",
   "execution_count": 11,
   "id": "970a23ee-4e13-4224-a33c-cd6d8633ade8",
   "metadata": {},
   "outputs": [],
   "source": [
    "dog=Dog()"
   ]
  },
  {
   "cell_type": "code",
   "execution_count": 5,
   "id": "36208b83-a655-4abc-bc03-4c21e115aa35",
   "metadata": {},
   "outputs": [
    {
     "name": "stdout",
     "output_type": "stream",
     "text": [
      "Meow\n",
      "None\n"
     ]
    }
   ],
   "source": [
    "animal_sound(cat)"
   ]
  },
  {
   "cell_type": "code",
   "execution_count": 7,
   "id": "a52cca5b-1e15-43c6-8497-f8c96288fe02",
   "metadata": {},
   "outputs": [
    {
     "name": "stdout",
     "output_type": "stream",
     "text": [
      "Bark\n",
      "None\n"
     ]
    }
   ],
   "source": [
    "animal_sound(dog)"
   ]
  },
  {
   "cell_type": "code",
   "execution_count": 13,
   "id": "34078676-ca14-4d5d-baf8-5d99d3d4bce4",
   "metadata": {},
   "outputs": [],
   "source": [
    "bird=Bird()"
   ]
  },
  {
   "cell_type": "code",
   "execution_count": 14,
   "id": "cab17eab-a013-4c75-8247-cfe2be1a7086",
   "metadata": {},
   "outputs": [
    {
     "name": "stdout",
     "output_type": "stream",
     "text": [
      "chirp\n",
      "None\n"
     ]
    }
   ],
   "source": [
    "animal_sound(bird)"
   ]
  },
  {
   "cell_type": "markdown",
   "id": "1630b3cc-f981-4ce7-96e0-51051bce2953",
   "metadata": {},
   "source": [
    "- Define a class Car and a class Bike. Both classes should have a wheels() method which prints how many wheels do they have\n",
    "\n",
    "- Write a method which accepts the name of any object and calls the wheels() method using Polymorphism"
   ]
  },
  {
   "cell_type": "code",
   "execution_count": 15,
   "id": "7d913fb7-f429-4eba-8610-9a89c420c0b2",
   "metadata": {},
   "outputs": [],
   "source": [
    "class Car:\n",
    "    def wheels(self):\n",
    "        print(\"Car has 4 wheels\")\n",
    "\n",
    "class Bike:\n",
    "    def wheels(self):\n",
    "        print(\"Bike has 2 wheels\")\n",
    "\n",
    "class Truck:\n",
    "    def wheels(self):\n",
    "        print(\"Truck has 18 wheels\")\n",
    "\n",
    "def transport(vehicle):\n",
    "    vehicle.wheels()"
   ]
  },
  {
   "cell_type": "code",
   "execution_count": 16,
   "id": "846ff164-40d0-4884-ae5c-e0b66695387a",
   "metadata": {},
   "outputs": [],
   "source": [
    "car=Car()\n",
    "bike=Bike()\n",
    "truck=Truck()"
   ]
  },
  {
   "cell_type": "code",
   "execution_count": 17,
   "id": "0b7a17dc-36e9-4743-8b66-d742b46cdc94",
   "metadata": {},
   "outputs": [
    {
     "name": "stdout",
     "output_type": "stream",
     "text": [
      "Car has 4 wheels\n"
     ]
    }
   ],
   "source": [
    "transport(car)"
   ]
  },
  {
   "cell_type": "code",
   "execution_count": 18,
   "id": "33cc44c4-a7b5-4dbb-9c88-d747b3af3b9a",
   "metadata": {},
   "outputs": [
    {
     "name": "stdout",
     "output_type": "stream",
     "text": [
      "Truck has 18 wheels\n"
     ]
    }
   ],
   "source": [
    "transport(truck)"
   ]
  },
  {
   "cell_type": "markdown",
   "id": "ebd5f57a-02b2-4026-b12d-76ea3bcb968e",
   "metadata": {},
   "source": [
    "Create a class Shopping_Cart which has:\n",
    "\n",
    "- a method to add items to the cart, these items should be private to us\n",
    "- a method to remove items from the cart \n",
    "- a method to calculate the total cost of items added to the cart\n",
    "- a method to access the items"
   ]
  },
  {
   "cell_type": "code",
   "execution_count": 31,
   "id": "8a4bbae2-2039-4b2d-a3fd-398770bddb88",
   "metadata": {},
   "outputs": [],
   "source": [
    "class Shopping_Cart:\n",
    "    def __init__(self):\n",
    "        self.__items={} #private empty dictionary that store the items and their price \n",
    "\n",
    "#method to add items to the cart\n",
    "    def add_item(self,item,price):\n",
    "        if price>0:\n",
    "            self.__items[item]=price\n",
    "            print(\"added\",item,\"to the cart for\",price)\n",
    "        else:\n",
    "            print(\"price should be valid\")\n",
    "\n",
    "#method to remove items from the cart\n",
    "    def remove_item(self,item):\n",
    "        if item in self.__items:\n",
    "            del self.__items[item]\n",
    "            print(\"removed\",item,\"from the cart\")\n",
    "        else:\n",
    "            print(\"item not found in cart\")\n",
    "            \n",
    "#method to calculate the total cost\n",
    "    def total_cost(self):\n",
    "        print(sum(self.__items.values()))\n",
    "\n",
    "#method to access the items (getter())\n",
    "    def get_items(self):\n",
    "        print(self.__items)"
   ]
  },
  {
   "cell_type": "code",
   "execution_count": 32,
   "id": "35661a50-87be-4fcb-aaa4-771c2d4c80aa",
   "metadata": {},
   "outputs": [],
   "source": [
    "cart=Shopping_Cart()"
   ]
  },
  {
   "cell_type": "code",
   "execution_count": 33,
   "id": "757954ab-7696-44a8-8aba-1bf8fb197104",
   "metadata": {},
   "outputs": [
    {
     "name": "stdout",
     "output_type": "stream",
     "text": [
      "added Laptop to the cart for 100000\n",
      "added Phone to the cart for 50000\n",
      "added IPad to the cart for 44000\n"
     ]
    }
   ],
   "source": [
    "cart.add_item(\"Laptop\",100000)\n",
    "cart.add_item(\"Phone\",50000)\n",
    "cart.add_item(\"IPad\",44000)"
   ]
  },
  {
   "cell_type": "code",
   "execution_count": 34,
   "id": "a14ee631-da9f-4ef0-aeb7-a9f34cdf11d0",
   "metadata": {},
   "outputs": [
    {
     "name": "stdout",
     "output_type": "stream",
     "text": [
      "{'Laptop': 100000, 'Phone': 50000, 'IPad': 44000}\n"
     ]
    }
   ],
   "source": [
    "cart.get_items()"
   ]
  },
  {
   "cell_type": "code",
   "execution_count": 35,
   "id": "c29ec992-8797-4a86-9191-ad33bc078049",
   "metadata": {},
   "outputs": [
    {
     "name": "stdout",
     "output_type": "stream",
     "text": [
      "194000\n"
     ]
    }
   ],
   "source": [
    "cart.total_cost()"
   ]
  },
  {
   "cell_type": "code",
   "execution_count": 36,
   "id": "c6bdf76e-1df0-4b47-bdd1-aa1c936ac32a",
   "metadata": {},
   "outputs": [
    {
     "name": "stdout",
     "output_type": "stream",
     "text": [
      "removed IPad from the cart\n"
     ]
    }
   ],
   "source": [
    "cart.remove_item(\"IPad\")"
   ]
  },
  {
   "cell_type": "code",
   "execution_count": 37,
   "id": "c169d101-1c5d-471a-a4c3-c468ce451593",
   "metadata": {},
   "outputs": [
    {
     "name": "stdout",
     "output_type": "stream",
     "text": [
      "{'Laptop': 100000, 'Phone': 50000}\n"
     ]
    }
   ],
   "source": [
    "cart.get_items()"
   ]
  },
  {
   "cell_type": "code",
   "execution_count": 38,
   "id": "72ec230d-1537-4137-9835-c9c2bd416e6e",
   "metadata": {},
   "outputs": [
    {
     "name": "stdout",
     "output_type": "stream",
     "text": [
      "150000\n"
     ]
    }
   ],
   "source": [
    "cart.total_cost()"
   ]
  },
  {
   "cell_type": "markdown",
   "id": "5a9c3d33-0179-41ca-99fa-c3480e63bfd3",
   "metadata": {},
   "source": [
    "Create a Student_Record class with features like:\n",
    "\n",
    "- a method for adding student details like name, age and grades\n",
    "- a method to remove a student from the records\n",
    "- a method to calculate the average marks of all the students"
   ]
  },
  {
   "cell_type": "code",
   "execution_count": 39,
   "id": "e8510f54-5c30-4fd9-9637-310bfa2d5a14",
   "metadata": {},
   "outputs": [],
   "source": [
    "#HW"
   ]
  },
  {
   "cell_type": "code",
   "execution_count": null,
   "id": "90440533-4f70-45cc-93fd-aab41b3431be",
   "metadata": {},
   "outputs": [],
   "source": []
  }
 ],
 "metadata": {
  "kernelspec": {
   "display_name": "Python 3 (ipykernel)",
   "language": "python",
   "name": "python3"
  },
  "language_info": {
   "codemirror_mode": {
    "name": "ipython",
    "version": 3
   },
   "file_extension": ".py",
   "mimetype": "text/x-python",
   "name": "python",
   "nbconvert_exporter": "python",
   "pygments_lexer": "ipython3",
   "version": "3.11.7"
  }
 },
 "nbformat": 4,
 "nbformat_minor": 5
}
