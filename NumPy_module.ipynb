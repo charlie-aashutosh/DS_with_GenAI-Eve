{
 "cells": [
  {
   "cell_type": "markdown",
   "id": "a0bea241-91e7-43b6-ba3f-4698b463921a",
   "metadata": {},
   "source": [
    "Numpy "
   ]
  },
  {
   "cell_type": "code",
   "execution_count": 1,
   "id": "72287716-78e2-49ce-8760-a856a662ce5a",
   "metadata": {},
   "outputs": [
    {
     "name": "stdout",
     "output_type": "stream",
     "text": [
      "Requirement already satisfied: numpy in c:\\users\\mdtuf\\anaconda3\\lib\\site-packages (1.26.4)\n"
     ]
    }
   ],
   "source": [
    "!pip install numpy"
   ]
  },
  {
   "cell_type": "code",
   "execution_count": 2,
   "id": "82075772-5277-480d-9818-d7ca056797b0",
   "metadata": {},
   "outputs": [],
   "source": [
    "#importing the module\n",
    "import numpy as np #here np is the alias name"
   ]
  },
  {
   "cell_type": "code",
   "execution_count": 3,
   "id": "ba08fd8d-26d3-42ce-886f-fd085039b9f1",
   "metadata": {},
   "outputs": [],
   "source": [
    "my_list=[1,2,3,4,5]"
   ]
  },
  {
   "cell_type": "code",
   "execution_count": 4,
   "id": "d3deaa89-07b7-48b1-ac26-e0d397fc5599",
   "metadata": {},
   "outputs": [
    {
     "data": {
      "text/plain": [
       "list"
      ]
     },
     "execution_count": 4,
     "metadata": {},
     "output_type": "execute_result"
    }
   ],
   "source": [
    "type(my_list)"
   ]
  },
  {
   "cell_type": "code",
   "execution_count": 5,
   "id": "311513b7-34c3-4a13-a7b0-d835ef699851",
   "metadata": {},
   "outputs": [],
   "source": [
    "my_array=np.array(my_list) #np.array() will convert the list to an array"
   ]
  },
  {
   "cell_type": "code",
   "execution_count": 6,
   "id": "e63d3393-e157-4027-858f-e15c38dae7d6",
   "metadata": {},
   "outputs": [
    {
     "name": "stdout",
     "output_type": "stream",
     "text": [
      "[1 2 3 4 5]\n"
     ]
    }
   ],
   "source": [
    "print(my_array)"
   ]
  },
  {
   "cell_type": "code",
   "execution_count": 7,
   "id": "dce26d9b-7c6c-41e7-b452-6f613434e73c",
   "metadata": {},
   "outputs": [
    {
     "data": {
      "text/plain": [
       "numpy.ndarray"
      ]
     },
     "execution_count": 7,
     "metadata": {},
     "output_type": "execute_result"
    }
   ],
   "source": [
    "type(my_array) #here nd means n dimentional, in this case the value of n=1"
   ]
  },
  {
   "cell_type": "code",
   "execution_count": 8,
   "id": "947a7ac6-e3a9-4b0c-a3b4-24750bd77332",
   "metadata": {},
   "outputs": [],
   "source": [
    "#multinested array\n",
    "my_list_1=[1,2,3,4,5]\n",
    "my_list_2=[3,4,5,3,2]\n",
    "my_list_3=[5,9,8,0,1]\n",
    "\n",
    "arr=np.array([my_list_1,my_list_2,my_list_3])"
   ]
  },
  {
   "cell_type": "code",
   "execution_count": 9,
   "id": "d980c6dd-086a-49a8-a54c-368622760161",
   "metadata": {},
   "outputs": [
    {
     "name": "stdout",
     "output_type": "stream",
     "text": [
      "[[1 2 3 4 5]\n",
      " [3 4 5 3 2]\n",
      " [5 9 8 0 1]]\n"
     ]
    }
   ],
   "source": [
    "print(arr)"
   ]
  },
  {
   "cell_type": "code",
   "execution_count": 10,
   "id": "b0dac999-a0f5-43d1-9440-b9e22df071d1",
   "metadata": {},
   "outputs": [
    {
     "data": {
      "text/plain": [
       "(3, 5)"
      ]
     },
     "execution_count": 10,
     "metadata": {},
     "output_type": "execute_result"
    }
   ],
   "source": [
    "arr.shape #.shape talks about the number of rows and then the number of columns "
   ]
  },
  {
   "cell_type": "code",
   "execution_count": 12,
   "id": "cc8b72a0-42fc-4c8d-a4e0-663d2d430451",
   "metadata": {},
   "outputs": [
    {
     "data": {
      "text/plain": [
       "array([[1, 2, 3],\n",
       "       [4, 5, 3],\n",
       "       [4, 5, 3],\n",
       "       [2, 5, 9],\n",
       "       [8, 0, 1]])"
      ]
     },
     "execution_count": 12,
     "metadata": {},
     "output_type": "execute_result"
    }
   ],
   "source": [
    "arr.reshape(5,3)"
   ]
  },
  {
   "cell_type": "code",
   "execution_count": 13,
   "id": "d2b589bb-2013-465f-b7a4-914baa0b9d5f",
   "metadata": {},
   "outputs": [
    {
     "data": {
      "text/plain": [
       "array([[1, 2, 3, 4, 5, 3, 4, 5, 3, 2, 5, 9, 8, 0, 1]])"
      ]
     },
     "execution_count": 13,
     "metadata": {},
     "output_type": "execute_result"
    }
   ],
   "source": [
    "arr.reshape(1,15)"
   ]
  },
  {
   "cell_type": "code",
   "execution_count": 11,
   "id": "93b8f345-e0c0-4534-b8c2-b6f4ce1419ae",
   "metadata": {},
   "outputs": [
    {
     "ename": "ValueError",
     "evalue": "cannot reshape array of size 15 into shape (4,5)",
     "output_type": "error",
     "traceback": [
      "\u001b[1;31m---------------------------------------------------------------------------\u001b[0m",
      "\u001b[1;31mValueError\u001b[0m                                Traceback (most recent call last)",
      "Cell \u001b[1;32mIn[11], line 1\u001b[0m\n\u001b[1;32m----> 1\u001b[0m arr\u001b[38;5;241m.\u001b[39mreshape(\u001b[38;5;241m4\u001b[39m,\u001b[38;5;241m5\u001b[39m)\n",
      "\u001b[1;31mValueError\u001b[0m: cannot reshape array of size 15 into shape (4,5)"
     ]
    }
   ],
   "source": [
    "arr.reshape(4,5) "
   ]
  },
  {
   "cell_type": "code",
   "execution_count": 14,
   "id": "e7a56ed9-6346-4965-883f-266d833eb982",
   "metadata": {},
   "outputs": [],
   "source": [
    "arr_new=np.array([[1,2,3,4],[2,4,5,6],[4,9,0,0]])"
   ]
  },
  {
   "cell_type": "code",
   "execution_count": 15,
   "id": "22db9364-39b5-4668-ba53-2d1cc5f278a9",
   "metadata": {},
   "outputs": [
    {
     "name": "stdout",
     "output_type": "stream",
     "text": [
      "[[1 2 3 4]\n",
      " [2 4 5 6]\n",
      " [4 9 0 0]]\n"
     ]
    }
   ],
   "source": [
    "print(arr_new)"
   ]
  },
  {
   "cell_type": "code",
   "execution_count": 17,
   "id": "7deff030-4b73-4524-aa4e-a05cd5db93a1",
   "metadata": {},
   "outputs": [
    {
     "data": {
      "text/plain": [
       "(3, 4)"
      ]
     },
     "execution_count": 17,
     "metadata": {},
     "output_type": "execute_result"
    }
   ],
   "source": [
    "arr_new.shape"
   ]
  },
  {
   "cell_type": "code",
   "execution_count": 19,
   "id": "b9d033b7-eafb-420a-ada3-96be39ebd203",
   "metadata": {},
   "outputs": [
    {
     "data": {
      "text/plain": [
       "array([[1, 2, 3, 4, 2, 4],\n",
       "       [5, 6, 4, 9, 0, 0]])"
      ]
     },
     "execution_count": 19,
     "metadata": {},
     "output_type": "execute_result"
    }
   ],
   "source": [
    "arr_new.reshape(2,6)"
   ]
  },
  {
   "cell_type": "code",
   "execution_count": 20,
   "id": "a8daf409-3f8d-4222-9fba-c84ecca8b73e",
   "metadata": {},
   "outputs": [],
   "source": [
    "new_arr=arr_new.reshape(2,2,3) #first - number of matrics, second and third - size of each matrix"
   ]
  },
  {
   "cell_type": "code",
   "execution_count": 21,
   "id": "0bbd00f8-a6c2-4c4f-b4a1-a18ae2d3e33d",
   "metadata": {},
   "outputs": [
    {
     "name": "stdout",
     "output_type": "stream",
     "text": [
      "[[[1 2 3]\n",
      "  [4 2 4]]\n",
      "\n",
      " [[5 6 4]\n",
      "  [9 0 0]]]\n"
     ]
    }
   ],
   "source": [
    "print(new_arr)"
   ]
  },
  {
   "cell_type": "code",
   "execution_count": 22,
   "id": "00b2dc57-8bda-40ee-b67f-347c4663215f",
   "metadata": {},
   "outputs": [],
   "source": [
    "new_arr_one=arr_new.reshape(3,2,2)"
   ]
  },
  {
   "cell_type": "code",
   "execution_count": 23,
   "id": "132ad276-f206-4e44-832d-987d0dd04c3d",
   "metadata": {},
   "outputs": [
    {
     "name": "stdout",
     "output_type": "stream",
     "text": [
      "[[[1 2]\n",
      "  [3 4]]\n",
      "\n",
      " [[2 4]\n",
      "  [5 6]]\n",
      "\n",
      " [[4 9]\n",
      "  [0 0]]]\n"
     ]
    }
   ],
   "source": [
    "print(new_arr_one)"
   ]
  },
  {
   "cell_type": "code",
   "execution_count": 24,
   "id": "d35c10f1-f792-4f87-b858-8f7b09922aa7",
   "metadata": {},
   "outputs": [],
   "source": [
    "#Basic operations with matrics"
   ]
  },
  {
   "cell_type": "code",
   "execution_count": 25,
   "id": "a2e4dd79-4618-473a-aeca-8acd3c7b4b45",
   "metadata": {},
   "outputs": [],
   "source": [
    "a=np.array([1,2,3,4,5])"
   ]
  },
  {
   "cell_type": "code",
   "execution_count": 26,
   "id": "3721f55f-ae02-4533-9642-5cf478a65d3d",
   "metadata": {},
   "outputs": [
    {
     "name": "stdout",
     "output_type": "stream",
     "text": [
      "adding 1 to each element [2 3 4 5 6]\n"
     ]
    }
   ],
   "source": [
    "print(\"adding 1 to each element\",a+1)"
   ]
  },
  {
   "cell_type": "code",
   "execution_count": 27,
   "id": "c8eb1823-12a8-4358-8554-4a8271182a86",
   "metadata": {},
   "outputs": [
    {
     "name": "stdout",
     "output_type": "stream",
     "text": [
      "substracting 2 from each element [-1  0  1  2  3]\n"
     ]
    }
   ],
   "source": [
    "print(\"substracting 2 from each element\",a-2)"
   ]
  },
  {
   "cell_type": "code",
   "execution_count": 28,
   "id": "dc5375e7-c967-45d5-8e8f-d2e5aec42bd7",
   "metadata": {},
   "outputs": [
    {
     "name": "stdout",
     "output_type": "stream",
     "text": [
      "multiply each element by 5 [ 5 10 15 20 25]\n"
     ]
    }
   ],
   "source": [
    "print(\"multiply each element by 5\",a*5)"
   ]
  },
  {
   "cell_type": "code",
   "execution_count": 29,
   "id": "5e13e0e2-af11-4a3f-b22c-a8108f115906",
   "metadata": {},
   "outputs": [
    {
     "name": "stdout",
     "output_type": "stream",
     "text": [
      "dividing each element by 2 [0.5 1.  1.5 2.  2.5]\n"
     ]
    }
   ],
   "source": [
    "print(\"dividing each element by 2\",a/2)"
   ]
  },
  {
   "cell_type": "code",
   "execution_count": 30,
   "id": "1d6218a6-771f-4585-97b7-dd02a7932163",
   "metadata": {},
   "outputs": [
    {
     "name": "stdout",
     "output_type": "stream",
     "text": [
      "square of each element [ 1  4  9 16 25]\n"
     ]
    }
   ],
   "source": [
    "print(\"square of each element\",a**2)"
   ]
  },
  {
   "cell_type": "code",
   "execution_count": 31,
   "id": "9567d2c0-0e23-49ad-9736-d37018a7ad5e",
   "metadata": {},
   "outputs": [],
   "source": [
    "b=np.array([[3,4,5],[8,9,1],[1,1,2]])"
   ]
  },
  {
   "cell_type": "code",
   "execution_count": 32,
   "id": "41cfacd0-a639-472b-94ba-17b56c3c2d84",
   "metadata": {},
   "outputs": [
    {
     "name": "stdout",
     "output_type": "stream",
     "text": [
      "[[3 4 5]\n",
      " [8 9 1]\n",
      " [1 1 2]]\n"
     ]
    }
   ],
   "source": [
    "print(b)"
   ]
  },
  {
   "cell_type": "code",
   "execution_count": 33,
   "id": "bd076c62-2c6e-4123-b749-e3ba4473821c",
   "metadata": {},
   "outputs": [
    {
     "name": "stdout",
     "output_type": "stream",
     "text": [
      "largest element from this matrix is 9\n"
     ]
    }
   ],
   "source": [
    "print(\"largest element from this matrix is\",b.max())"
   ]
  },
  {
   "cell_type": "code",
   "execution_count": 34,
   "id": "45545e00-d0a8-41b3-b248-cbf3f89e5a6a",
   "metadata": {},
   "outputs": [
    {
     "name": "stdout",
     "output_type": "stream",
     "text": [
      "smallest element from this matrix is 1\n"
     ]
    }
   ],
   "source": [
    "print(\"smallest element from this matrix is\", b.min())"
   ]
  },
  {
   "cell_type": "code",
   "execution_count": 35,
   "id": "2246c617-c60d-474e-845f-8922ee56b917",
   "metadata": {},
   "outputs": [
    {
     "name": "stdout",
     "output_type": "stream",
     "text": [
      "sum of all the elements from this matrix 34\n"
     ]
    }
   ],
   "source": [
    "print(\"sum of all the elements from this matrix\",b.sum())"
   ]
  },
  {
   "cell_type": "code",
   "execution_count": 36,
   "id": "8b94f6cd-d106-4f95-955b-ef65144ef771",
   "metadata": {},
   "outputs": [
    {
     "name": "stdout",
     "output_type": "stream",
     "text": [
      "transpose of the matrix [[3 8 1]\n",
      " [4 9 1]\n",
      " [5 1 2]]\n"
     ]
    }
   ],
   "source": [
    "print(\"transpose of the matrix\",b.T) #.T will convert the rows into columns and columns into rows"
   ]
  },
  {
   "cell_type": "code",
   "execution_count": 38,
   "id": "87ef9f0e-ad87-47d8-a873-68ab9e84efc6",
   "metadata": {},
   "outputs": [
    {
     "name": "stdout",
     "output_type": "stream",
     "text": [
      "eigen values and eigen vectors of the given matrix EigResult(eigenvalues=array([12.90893219, -0.63010533,  1.72117314]), eigenvectors=array([[-0.42351784, -0.77080884,  0.58526014],\n",
      "       [-0.89775441,  0.63496947, -0.69956984],\n",
      "       [-0.12111838,  0.05164788,  0.40996659]]))\n"
     ]
    }
   ],
   "source": [
    "print(\"eigen values and eigen vectors of the given matrix\",np.linalg.eig(b))"
   ]
  },
  {
   "cell_type": "code",
   "execution_count": 39,
   "id": "6d9f2005-2514-447f-a837-a822bd06455e",
   "metadata": {},
   "outputs": [],
   "source": [
    "mat_1=np.array([[1,2],[3,4]])\n",
    "mat_2=np.array([[5,6],[7,8]])"
   ]
  },
  {
   "cell_type": "code",
   "execution_count": 40,
   "id": "368f7965-57d9-49b0-8f66-230c426f98e0",
   "metadata": {},
   "outputs": [
    {
     "name": "stdout",
     "output_type": "stream",
     "text": [
      "adding the two matrics together [[ 6  8]\n",
      " [10 12]]\n"
     ]
    }
   ],
   "source": [
    "print(\"adding the two matrics together\",mat_1+mat_2)"
   ]
  },
  {
   "cell_type": "code",
   "execution_count": 41,
   "id": "f200d732-a816-4cfd-a3af-a82e271d551f",
   "metadata": {},
   "outputs": [
    {
     "name": "stdout",
     "output_type": "stream",
     "text": [
      "multipllying the two matrics together [[ 5 12]\n",
      " [21 32]]\n"
     ]
    }
   ],
   "source": [
    "print(\"multipllying the two matrics together\",mat_1*mat_2)"
   ]
  },
  {
   "cell_type": "code",
   "execution_count": 42,
   "id": "4738fff4-ea28-453b-9118-53a27f9f8153",
   "metadata": {},
   "outputs": [],
   "source": [
    "#generate numbers(sequential as well as random)"
   ]
  },
  {
   "cell_type": "code",
   "execution_count": 43,
   "id": "7fc8246c-1964-4872-9025-6da512d2a6fb",
   "metadata": {},
   "outputs": [],
   "source": [
    "p=np.arange(1,10) #arange() helps in generating sequential data in a given range "
   ]
  },
  {
   "cell_type": "code",
   "execution_count": 44,
   "id": "339b2537-bb81-410a-850a-cb15dce04e02",
   "metadata": {},
   "outputs": [
    {
     "name": "stdout",
     "output_type": "stream",
     "text": [
      "[1 2 3 4 5 6 7 8 9]\n"
     ]
    }
   ],
   "source": [
    "print(p)"
   ]
  },
  {
   "cell_type": "code",
   "execution_count": 45,
   "id": "1ca44518-6df0-4b98-bb0a-e856cedb9f06",
   "metadata": {},
   "outputs": [
    {
     "data": {
      "text/plain": [
       "array([1, 3, 5, 7, 9])"
      ]
     },
     "execution_count": 45,
     "metadata": {},
     "output_type": "execute_result"
    }
   ],
   "source": [
    "np.arange(1,10,2) #here 2 represents the step size "
   ]
  },
  {
   "cell_type": "code",
   "execution_count": 46,
   "id": "f0bdde1e-4789-477f-9eb3-c12141bf0a81",
   "metadata": {},
   "outputs": [
    {
     "data": {
      "text/plain": [
       "array([ 1,  4,  7, 10, 13])"
      ]
     },
     "execution_count": 46,
     "metadata": {},
     "output_type": "execute_result"
    }
   ],
   "source": [
    "np.arange(1,15,3)"
   ]
  },
  {
   "cell_type": "code",
   "execution_count": 47,
   "id": "e75a7687-dc0b-4df0-903d-55b6053a62b4",
   "metadata": {},
   "outputs": [
    {
     "data": {
      "text/plain": [
       "array([ 1.        ,  1.18367347,  1.36734694,  1.55102041,  1.73469388,\n",
       "        1.91836735,  2.10204082,  2.28571429,  2.46938776,  2.65306122,\n",
       "        2.83673469,  3.02040816,  3.20408163,  3.3877551 ,  3.57142857,\n",
       "        3.75510204,  3.93877551,  4.12244898,  4.30612245,  4.48979592,\n",
       "        4.67346939,  4.85714286,  5.04081633,  5.2244898 ,  5.40816327,\n",
       "        5.59183673,  5.7755102 ,  5.95918367,  6.14285714,  6.32653061,\n",
       "        6.51020408,  6.69387755,  6.87755102,  7.06122449,  7.24489796,\n",
       "        7.42857143,  7.6122449 ,  7.79591837,  7.97959184,  8.16326531,\n",
       "        8.34693878,  8.53061224,  8.71428571,  8.89795918,  9.08163265,\n",
       "        9.26530612,  9.44897959,  9.63265306,  9.81632653, 10.        ])"
      ]
     },
     "execution_count": 47,
     "metadata": {},
     "output_type": "execute_result"
    }
   ],
   "source": [
    "np.linspace(1,10,50) #here 10 will not exclusive in nature and 50 here represents the number of outputs to be generated"
   ]
  },
  {
   "cell_type": "code",
   "execution_count": 48,
   "id": "070adcba-1282-4c8a-98cf-2a6d62ef1081",
   "metadata": {},
   "outputs": [
    {
     "data": {
      "text/plain": [
       "array([ 1.        ,  1.09090909,  1.18181818,  1.27272727,  1.36363636,\n",
       "        1.45454545,  1.54545455,  1.63636364,  1.72727273,  1.81818182,\n",
       "        1.90909091,  2.        ,  2.09090909,  2.18181818,  2.27272727,\n",
       "        2.36363636,  2.45454545,  2.54545455,  2.63636364,  2.72727273,\n",
       "        2.81818182,  2.90909091,  3.        ,  3.09090909,  3.18181818,\n",
       "        3.27272727,  3.36363636,  3.45454545,  3.54545455,  3.63636364,\n",
       "        3.72727273,  3.81818182,  3.90909091,  4.        ,  4.09090909,\n",
       "        4.18181818,  4.27272727,  4.36363636,  4.45454545,  4.54545455,\n",
       "        4.63636364,  4.72727273,  4.81818182,  4.90909091,  5.        ,\n",
       "        5.09090909,  5.18181818,  5.27272727,  5.36363636,  5.45454545,\n",
       "        5.54545455,  5.63636364,  5.72727273,  5.81818182,  5.90909091,\n",
       "        6.        ,  6.09090909,  6.18181818,  6.27272727,  6.36363636,\n",
       "        6.45454545,  6.54545455,  6.63636364,  6.72727273,  6.81818182,\n",
       "        6.90909091,  7.        ,  7.09090909,  7.18181818,  7.27272727,\n",
       "        7.36363636,  7.45454545,  7.54545455,  7.63636364,  7.72727273,\n",
       "        7.81818182,  7.90909091,  8.        ,  8.09090909,  8.18181818,\n",
       "        8.27272727,  8.36363636,  8.45454545,  8.54545455,  8.63636364,\n",
       "        8.72727273,  8.81818182,  8.90909091,  9.        ,  9.09090909,\n",
       "        9.18181818,  9.27272727,  9.36363636,  9.45454545,  9.54545455,\n",
       "        9.63636364,  9.72727273,  9.81818182,  9.90909091, 10.        ])"
      ]
     },
     "execution_count": 48,
     "metadata": {},
     "output_type": "execute_result"
    }
   ],
   "source": [
    "np.linspace(1,10,100)"
   ]
  },
  {
   "cell_type": "code",
   "execution_count": 51,
   "id": "fbd0aa06-2d02-40c9-afd4-5be54b6ed066",
   "metadata": {},
   "outputs": [
    {
     "data": {
      "text/plain": [
       "array([[0.61439004, 0.35588244, 0.33563287, 0.39105675],\n",
       "       [0.92852672, 0.27717218, 0.94850726, 0.25998921],\n",
       "       [0.16441   , 0.85558367, 0.09954204, 0.6419346 ]])"
      ]
     },
     "execution_count": 51,
     "metadata": {},
     "output_type": "execute_result"
    }
   ],
   "source": [
    "np.random.rand(3,4) #here 3 is the number of rows and 4 is the number of columns\n",
    "#here in random.rand the range is 0-1 bydefault (where 1 is exclusive)"
   ]
  },
  {
   "cell_type": "code",
   "execution_count": 53,
   "id": "35b0f099-fcee-4f5d-9e0f-d7ab2747b092",
   "metadata": {},
   "outputs": [
    {
     "data": {
      "text/plain": [
       "array([[0.29448821, 0.10124601, 0.15010508, 0.44599566, 0.9407843 ],\n",
       "       [0.00235638, 0.68738103, 0.33374224, 0.81346295, 0.73807054],\n",
       "       [0.58843738, 0.21939912, 0.25488889, 0.02511606, 0.79620151],\n",
       "       [0.60263372, 0.9198507 , 0.16590717, 0.5169889 , 0.6846393 ]])"
      ]
     },
     "execution_count": 53,
     "metadata": {},
     "output_type": "execute_result"
    }
   ],
   "source": [
    "np.random.rand(4,5)"
   ]
  },
  {
   "cell_type": "code",
   "execution_count": 57,
   "id": "16456847-1d53-49f2-8900-dfecd231ab37",
   "metadata": {},
   "outputs": [
    {
     "data": {
      "text/plain": [
       "0.5757315688633571"
      ]
     },
     "execution_count": 57,
     "metadata": {},
     "output_type": "execute_result"
    }
   ],
   "source": [
    "np.random.rand() "
   ]
  },
  {
   "cell_type": "code",
   "execution_count": 64,
   "id": "12506273-6c6a-415e-a6a2-8c5b82500709",
   "metadata": {},
   "outputs": [
    {
     "data": {
      "text/plain": [
       "3"
      ]
     },
     "execution_count": 64,
     "metadata": {},
     "output_type": "execute_result"
    }
   ],
   "source": [
    "np.random.randint(1,10) #here 1 to 10 represents the range (10 being exclusive)\n",
    "#here we get whole numbers as output"
   ]
  },
  {
   "cell_type": "code",
   "execution_count": 68,
   "id": "041f6621-9808-4aed-9ff3-8ed60170e8ce",
   "metadata": {},
   "outputs": [
    {
     "data": {
      "text/plain": [
       "array([11, 12, 18, 13])"
      ]
     },
     "execution_count": 68,
     "metadata": {},
     "output_type": "execute_result"
    }
   ],
   "source": [
    "np.random.randint(1,20,4) #here 4 represents the number of output "
   ]
  },
  {
   "cell_type": "code",
   "execution_count": null,
   "id": "b95633cf-717e-44d2-bc36-f5104b9c3e34",
   "metadata": {},
   "outputs": [],
   "source": []
  }
 ],
 "metadata": {
  "kernelspec": {
   "display_name": "Python 3 (ipykernel)",
   "language": "python",
   "name": "python3"
  },
  "language_info": {
   "codemirror_mode": {
    "name": "ipython",
    "version": 3
   },
   "file_extension": ".py",
   "mimetype": "text/x-python",
   "name": "python",
   "nbconvert_exporter": "python",
   "pygments_lexer": "ipython3",
   "version": "3.11.7"
  }
 },
 "nbformat": 4,
 "nbformat_minor": 5
}
