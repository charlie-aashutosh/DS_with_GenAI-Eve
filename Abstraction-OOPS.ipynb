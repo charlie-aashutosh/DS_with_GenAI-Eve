{
 "cells": [
  {
   "cell_type": "markdown",
   "id": "fc19a246-48eb-4029-8528-b758fd004692",
   "metadata": {},
   "source": [
    "Abstraction"
   ]
  },
  {
   "cell_type": "code",
   "execution_count": 1,
   "id": "6a80c233-b1bd-44d8-8173-c40436a243ae",
   "metadata": {},
   "outputs": [],
   "source": [
    "from abc import ABC, abstractmethod#ABC - Abstract Base Class\n",
    "\n",
    "class Shape(ABC): #Shape is a Abstract Class\n",
    "    \n",
    "    @abstractmethod\n",
    "    def area(self): #abstract method \n",
    "        pass\n",
    "\n",
    "    @abstractmethod\n",
    "    def perimeter(self): #abstract method \n",
    "        pass\n",
    "\n",
    "class Rectangle(Shape):\n",
    "\n",
    "    def __init__(self,width,height):\n",
    "        self.width=width\n",
    "        self.height=height\n",
    "\n",
    "    def area(self):\n",
    "        print(\"area of rectange is\",self.width*self.height)\n",
    "\n",
    "    def perimeter(self):\n",
    "        print(\"perimeter of rectange is\",2*(self.width+self.height))"
   ]
  },
  {
   "cell_type": "code",
   "execution_count": 2,
   "id": "3a53029d-8a87-43fc-a124-6b98b702c856",
   "metadata": {},
   "outputs": [],
   "source": [
    "rec=Rectangle(5,10)"
   ]
  },
  {
   "cell_type": "code",
   "execution_count": 3,
   "id": "5d612ea1-54bb-4f7a-9a5f-377ddb54727e",
   "metadata": {},
   "outputs": [
    {
     "name": "stdout",
     "output_type": "stream",
     "text": [
      "area of rectange is 50\n"
     ]
    }
   ],
   "source": [
    "rec.area()"
   ]
  },
  {
   "cell_type": "code",
   "execution_count": 4,
   "id": "a836d520-7291-4090-bdff-fc110f1ed129",
   "metadata": {},
   "outputs": [
    {
     "name": "stdout",
     "output_type": "stream",
     "text": [
      "perimeter of rectange is 30\n"
     ]
    }
   ],
   "source": [
    "rec.perimeter()"
   ]
  },
  {
   "cell_type": "code",
   "execution_count": null,
   "id": "dcc38c42-85aa-47b8-940c-16756d3af27a",
   "metadata": {},
   "outputs": [],
   "source": []
  }
 ],
 "metadata": {
  "kernelspec": {
   "display_name": "Python 3 (ipykernel)",
   "language": "python",
   "name": "python3"
  },
  "language_info": {
   "codemirror_mode": {
    "name": "ipython",
    "version": 3
   },
   "file_extension": ".py",
   "mimetype": "text/x-python",
   "name": "python",
   "nbconvert_exporter": "python",
   "pygments_lexer": "ipython3",
   "version": "3.11.7"
  }
 },
 "nbformat": 4,
 "nbformat_minor": 5
}
