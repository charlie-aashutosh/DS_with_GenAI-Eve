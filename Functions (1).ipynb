{
 "cells": [
  {
   "cell_type": "markdown",
   "id": "bebf6d53-26d6-4cc8-aa89-b72ee518f7ce",
   "metadata": {},
   "source": [
    "Create a function which adds two numbers"
   ]
  },
  {
   "cell_type": "code",
   "execution_count": 1,
   "id": "2d919254-6db6-4c8e-a246-da5bade64dbf",
   "metadata": {},
   "outputs": [],
   "source": [
    "#define the function \n",
    "\n",
    "def add(a,b):\n",
    "    s=a+b\n",
    "    print(s)"
   ]
  },
  {
   "cell_type": "code",
   "execution_count": 2,
   "id": "bce14a7e-6a6d-452e-aa05-e9d1f4bf69ab",
   "metadata": {},
   "outputs": [
    {
     "name": "stdout",
     "output_type": "stream",
     "text": [
      "18\n"
     ]
    }
   ],
   "source": [
    "#calling the function\n",
    "\n",
    "add(6,12)"
   ]
  },
  {
   "cell_type": "code",
   "execution_count": 3,
   "id": "48fbf775-911c-47ae-844e-6acfe02196a5",
   "metadata": {},
   "outputs": [
    {
     "name": "stdout",
     "output_type": "stream",
     "text": [
      "13\n"
     ]
    }
   ],
   "source": [
    "add(4,9)"
   ]
  },
  {
   "cell_type": "code",
   "execution_count": 4,
   "id": "de1699f8-190a-48e9-ae2c-245ff8d22daa",
   "metadata": {},
   "outputs": [
    {
     "name": "stdout",
     "output_type": "stream",
     "text": [
      "-1\n"
     ]
    }
   ],
   "source": [
    "add(5,-6)"
   ]
  },
  {
   "cell_type": "code",
   "execution_count": 5,
   "id": "7458f831-0696-4be0-8cfc-eeb9f98fabb4",
   "metadata": {},
   "outputs": [
    {
     "name": "stdout",
     "output_type": "stream",
     "text": [
      "13\n"
     ]
    }
   ],
   "source": [
    "add(5,8)"
   ]
  },
  {
   "cell_type": "markdown",
   "id": "7fbec444-a388-446a-849e-80b812a0c353",
   "metadata": {},
   "source": [
    "Create a function \"compute\" which adds, subtracts, multiplies and divides 2 numbers \"a\" and \"b\" at the same time"
   ]
  },
  {
   "cell_type": "code",
   "execution_count": 6,
   "id": "96ab09db-dae9-4805-8b37-aa04db3a882a",
   "metadata": {},
   "outputs": [],
   "source": [
    "def compute(a,b):\n",
    "    s=a+b\n",
    "    t=a-b\n",
    "    u=a*b\n",
    "    v=a/b\n",
    "\n",
    "    print(s,t,u,v)"
   ]
  },
  {
   "cell_type": "code",
   "execution_count": 7,
   "id": "36fdab89-7b05-4480-b419-c2083504757f",
   "metadata": {},
   "outputs": [
    {
     "name": "stdout",
     "output_type": "stream",
     "text": [
      "15 5 50 2.0\n"
     ]
    }
   ],
   "source": [
    "compute(10,5)"
   ]
  },
  {
   "cell_type": "markdown",
   "id": "8552cd89-fdd9-487f-aac9-5abaf8d97b74",
   "metadata": {},
   "source": [
    "Create a function which takes name and age as input from the user and display the name of the candidate "
   ]
  },
  {
   "cell_type": "code",
   "execution_count": 8,
   "id": "c71a3ae3-9833-447f-9fea-79bbf6a8d87e",
   "metadata": {},
   "outputs": [],
   "source": [
    "def info(name,age):\n",
    "    print(\"Hi, your name is\",name)"
   ]
  },
  {
   "cell_type": "code",
   "execution_count": 9,
   "id": "83b64d98-4fae-4ec8-b51f-739269da31c0",
   "metadata": {},
   "outputs": [
    {
     "name": "stdout",
     "output_type": "stream",
     "text": [
      "Hi, your name is Aashutosh\n"
     ]
    }
   ],
   "source": [
    "info(\"Aashutosh\",99)"
   ]
  },
  {
   "cell_type": "code",
   "execution_count": 10,
   "id": "8621bb5c-aba1-4cae-b07a-c57d551019e0",
   "metadata": {},
   "outputs": [
    {
     "name": "stdout",
     "output_type": "stream",
     "text": [
      "Hi, your name is Meera\n"
     ]
    }
   ],
   "source": [
    "info(\"Meera\",98)"
   ]
  },
  {
   "cell_type": "markdown",
   "id": "d318c824-75a0-4335-ae2f-85cd5b8018c6",
   "metadata": {},
   "source": [
    "Create a function which displays the area and perimeter of a rectangle\n",
    "\n",
    "area of rectange is Lenght*Breadth\n",
    "\n",
    "perimeter of rectange is 2(Length+Breadth)"
   ]
  },
  {
   "cell_type": "code",
   "execution_count": 11,
   "id": "caa4bbd3-9ae1-4edf-84d9-133a4d84e1f9",
   "metadata": {},
   "outputs": [],
   "source": [
    "def rect(length, breadth):\n",
    "    area=length*breadth\n",
    "    perimeter=2*(length+breadth)\n",
    "\n",
    "    print(\"Area of rectange is\",area,\"and perimeter is\",perimeter)"
   ]
  },
  {
   "cell_type": "code",
   "execution_count": 12,
   "id": "eb149340-891d-4633-9ebe-a4961ed0a334",
   "metadata": {},
   "outputs": [
    {
     "name": "stdout",
     "output_type": "stream",
     "text": [
      "Area of rectange is 200 and perimeter is 60\n"
     ]
    }
   ],
   "source": [
    "rect(10,20)"
   ]
  },
  {
   "cell_type": "code",
   "execution_count": 13,
   "id": "f5ae1449-2372-48b0-a260-173d73ad9e60",
   "metadata": {},
   "outputs": [
    {
     "name": "stdout",
     "output_type": "stream",
     "text": [
      "Area of rectange is 375 and perimeter is 80\n"
     ]
    }
   ],
   "source": [
    "rect(25,15)"
   ]
  },
  {
   "cell_type": "markdown",
   "id": "50122277-9366-4ac9-9ea6-898515fe0a76",
   "metadata": {},
   "source": [
    "Create a function which displays the area and perimeter of a circle\n",
    "\n",
    "area of circle - pie*r**2\n",
    "\n",
    "perimeter of circle - 2*pie*r"
   ]
  },
  {
   "cell_type": "code",
   "execution_count": 14,
   "id": "3eb1b162-6126-4be2-a7c0-705435787ed4",
   "metadata": {},
   "outputs": [],
   "source": [
    "def circle(radius):\n",
    "    area=3.14*radius**2\n",
    "    perimeter=2*3.14*radius\n",
    "\n",
    "    print(\"The area of circle is\",area,\"and the perimeter is\",perimeter)"
   ]
  },
  {
   "cell_type": "code",
   "execution_count": 15,
   "id": "7e3496a1-68b2-4219-b834-fc9b792215c1",
   "metadata": {},
   "outputs": [
    {
     "name": "stdout",
     "output_type": "stream",
     "text": [
      "The area of circle is 314.0 and the perimeter is 62.800000000000004\n"
     ]
    }
   ],
   "source": [
    "circle(10)"
   ]
  },
  {
   "cell_type": "code",
   "execution_count": 17,
   "id": "d929d17b-9a21-48ee-8939-98310095e229",
   "metadata": {},
   "outputs": [
    {
     "name": "stdout",
     "output_type": "stream",
     "text": [
      "The area of circle is 452.16 and the perimeter is 75.36\n"
     ]
    }
   ],
   "source": [
    "circle(12)"
   ]
  },
  {
   "cell_type": "markdown",
   "id": "53cdb36f-68b9-4b23-8b47-1a711136572d",
   "metadata": {},
   "source": [
    "Types of Arguments\n",
    "\n",
    "- Positional Argument\n",
    "\n",
    "- Default Argument\n",
    "\n",
    "- Arbitrary Argument\n",
    "\n",
    "- Keyword Argument\n",
    "\n",
    "- Arbitrary Keyword Argument"
   ]
  },
  {
   "cell_type": "markdown",
   "id": "6ae37e8a-d566-4da2-8ee0-f88e51e958bf",
   "metadata": {},
   "source": [
    "Default Argument"
   ]
  },
  {
   "cell_type": "code",
   "execution_count": 21,
   "id": "569a326a-483c-4aa6-b75c-0ffa71c8344b",
   "metadata": {},
   "outputs": [],
   "source": [
    "def greeting(name,message=\"Hope you are doing good, take care!\"):\n",
    "    print(\"Hi\",name,message)"
   ]
  },
  {
   "cell_type": "code",
   "execution_count": 22,
   "id": "0c3d7ad6-1a0d-423f-b7d4-8530f0be24c9",
   "metadata": {},
   "outputs": [
    {
     "name": "stdout",
     "output_type": "stream",
     "text": [
      "Hi Aashutosh Hope you are doing good, take care!\n"
     ]
    }
   ],
   "source": [
    "greeting(\"Aashutosh\",)"
   ]
  },
  {
   "cell_type": "code",
   "execution_count": 23,
   "id": "b0e09e8d-8a22-4120-8d98-7e7bfbe0f261",
   "metadata": {},
   "outputs": [
    {
     "name": "stdout",
     "output_type": "stream",
     "text": [
      "Hi Meera Good day!\n"
     ]
    }
   ],
   "source": [
    "greeting(\"Meera\",\"Good day!\")"
   ]
  },
  {
   "cell_type": "code",
   "execution_count": 24,
   "id": "e68bd0b1-ea85-44ea-8e0c-e92580e770b6",
   "metadata": {},
   "outputs": [
    {
     "name": "stdout",
     "output_type": "stream",
     "text": [
      "Hi Taiwo Hope you are doing good, take care!\n"
     ]
    }
   ],
   "source": [
    "greeting(\"Taiwo\",)"
   ]
  },
  {
   "cell_type": "markdown",
   "id": "df26946b-df17-4248-86a6-700e79e72085",
   "metadata": {},
   "source": [
    "Create a function which takes name and salary as input from the user and display the name and salary.\n",
    "If the salary is not provided then use default salary as 25000 rupees"
   ]
  },
  {
   "cell_type": "code",
   "execution_count": 29,
   "id": "e06c5970-0802-4ce0-a3ab-30bfd531e365",
   "metadata": {},
   "outputs": [],
   "source": [
    "def data(name,salary=25000):\n",
    "    print(\"Hi\",name,\"your salary is\",salary)"
   ]
  },
  {
   "cell_type": "code",
   "execution_count": 30,
   "id": "154d2ff6-e837-491c-b001-d9e30839e069",
   "metadata": {},
   "outputs": [
    {
     "name": "stdout",
     "output_type": "stream",
     "text": [
      "Hi Aashutosh your salary is 20000\n"
     ]
    }
   ],
   "source": [
    "data(\"Aashutosh\",20000)"
   ]
  },
  {
   "cell_type": "code",
   "execution_count": 27,
   "id": "ea8998c0-b5d6-4102-a550-edd5fc319953",
   "metadata": {},
   "outputs": [
    {
     "name": "stdout",
     "output_type": "stream",
     "text": [
      "Hi Meera your salary is 25000\n"
     ]
    }
   ],
   "source": [
    "data(\"Meera\",25000)"
   ]
  },
  {
   "cell_type": "code",
   "execution_count": 31,
   "id": "b177eeba-7d2c-458b-8b56-3faf989de96b",
   "metadata": {},
   "outputs": [
    {
     "name": "stdout",
     "output_type": "stream",
     "text": [
      "Hi Meenakshi your salary is 25000\n"
     ]
    }
   ],
   "source": [
    "data(\"Meenakshi\",)"
   ]
  },
  {
   "cell_type": "code",
   "execution_count": 32,
   "id": "346f324d-d59d-491f-a37c-435a4dc49d9e",
   "metadata": {},
   "outputs": [
    {
     "name": "stdout",
     "output_type": "stream",
     "text": [
      "Hi Catherine your salary is 25000\n"
     ]
    }
   ],
   "source": [
    "data(\"Catherine\",)"
   ]
  },
  {
   "cell_type": "markdown",
   "id": "dddd29aa-04b3-4152-ad6e-7ea49fe584a5",
   "metadata": {},
   "source": [
    "Keyword Argument"
   ]
  },
  {
   "cell_type": "code",
   "execution_count": 33,
   "id": "3ae41919-bbaa-47dd-a59a-ab84955fb4a3",
   "metadata": {},
   "outputs": [],
   "source": [
    "def greet(name,age,message):\n",
    "    print(message,name,\"your age is\",age)"
   ]
  },
  {
   "cell_type": "code",
   "execution_count": 34,
   "id": "2b7724d8-ff94-454c-a8a5-5feaf102f96f",
   "metadata": {},
   "outputs": [
    {
     "name": "stdout",
     "output_type": "stream",
     "text": [
      "Good evening ! Aashutosh your age is 99\n"
     ]
    }
   ],
   "source": [
    "greet(age=99,name=\"Aashutosh\",message=\"Good evening !\")"
   ]
  },
  {
   "cell_type": "code",
   "execution_count": 35,
   "id": "668a3198-0e7f-41de-8a4b-e8190c7ca3f9",
   "metadata": {},
   "outputs": [
    {
     "name": "stdout",
     "output_type": "stream",
     "text": [
      "Good night Meera your age is 98\n"
     ]
    }
   ],
   "source": [
    "greet(name=\"Meera\",age=98,message=\"Good night\")"
   ]
  },
  {
   "cell_type": "markdown",
   "id": "4e463f34-d87d-4486-8cb7-657c742a26c0",
   "metadata": {},
   "source": [
    "Arbitrary Argument (*args) - variable lenght of input from the user"
   ]
  },
  {
   "cell_type": "code",
   "execution_count": 2,
   "id": "cace279c-bf35-4d11-ae61-b90a20c5936a",
   "metadata": {},
   "outputs": [],
   "source": [
    "def sum_num(*args):\n",
    "    total=0\n",
    "    for num in args:\n",
    "        total=total+num\n",
    "    print(total)"
   ]
  },
  {
   "cell_type": "code",
   "execution_count": 3,
   "id": "aa9f2e7c-88cc-478f-aad8-d8d9982437b1",
   "metadata": {},
   "outputs": [
    {
     "name": "stdout",
     "output_type": "stream",
     "text": [
      "3\n"
     ]
    }
   ],
   "source": [
    "sum_num(1,2)"
   ]
  },
  {
   "cell_type": "code",
   "execution_count": 4,
   "id": "80a795de-ecef-4595-84a1-20552d515835",
   "metadata": {},
   "outputs": [
    {
     "name": "stdout",
     "output_type": "stream",
     "text": [
      "20\n"
     ]
    }
   ],
   "source": [
    "sum_num(3,8,9)"
   ]
  },
  {
   "cell_type": "code",
   "execution_count": 5,
   "id": "ddf689ff-178e-4709-bab6-3cdf0cbdad41",
   "metadata": {},
   "outputs": [
    {
     "name": "stdout",
     "output_type": "stream",
     "text": [
      "35\n"
     ]
    }
   ],
   "source": [
    "sum_num(3,9,2,8,6,7)"
   ]
  },
  {
   "cell_type": "markdown",
   "id": "32d7872f-9281-409c-872f-dc26cef09acf",
   "metadata": {},
   "source": [
    "Create a function which returns even numbers from a list of numbers having variable length"
   ]
  },
  {
   "cell_type": "code",
   "execution_count": 12,
   "id": "619800f4-5d26-4e93-a516-23d5cc3c79cf",
   "metadata": {},
   "outputs": [],
   "source": [
    "def even(*args):\n",
    "    even_numbers=[]\n",
    "    for num in args:\n",
    "        if num%2==0:\n",
    "            even_numbers.append(num) #append() will add an element at the end of the list \n",
    "    print(even_numbers)"
   ]
  },
  {
   "cell_type": "code",
   "execution_count": 13,
   "id": "fd2cc5c9-e8f4-4a2b-b977-23afef0a9181",
   "metadata": {},
   "outputs": [
    {
     "name": "stdout",
     "output_type": "stream",
     "text": [
      "[2, 4]\n"
     ]
    }
   ],
   "source": [
    "even(1,2,3,4)"
   ]
  },
  {
   "cell_type": "code",
   "execution_count": 14,
   "id": "faa4096c-789c-4643-b0b6-72ecc8074af0",
   "metadata": {},
   "outputs": [
    {
     "name": "stdout",
     "output_type": "stream",
     "text": [
      "[8, 6, 4, 2, 0]\n"
     ]
    }
   ],
   "source": [
    "even(1,9,8,6,4,7,2,0)"
   ]
  },
  {
   "cell_type": "markdown",
   "id": "35bf4499-2e4e-48ce-b1c8-d5448577514b",
   "metadata": {},
   "source": [
    "Arbitrary Keyword Arguments - **kwargs"
   ]
  },
  {
   "cell_type": "code",
   "execution_count": 15,
   "id": "96661bdc-e584-41ed-97dd-0a480d720a99",
   "metadata": {},
   "outputs": [],
   "source": [
    "def details(**kwargs):\n",
    "    for key, value in kwargs.items():\n",
    "        print(key,\":\", value)"
   ]
  },
  {
   "cell_type": "code",
   "execution_count": 16,
   "id": "0f2a18d3-3de3-428a-91ce-78d2c20e7bf7",
   "metadata": {},
   "outputs": [
    {
     "name": "stdout",
     "output_type": "stream",
     "text": [
      "name : Aashutosh\n",
      "age : 99\n",
      "city : Chennai\n"
     ]
    }
   ],
   "source": [
    "details(name=\"Aashutosh\",age=99,city=\"Chennai\")"
   ]
  },
  {
   "cell_type": "code",
   "execution_count": 17,
   "id": "b3bc1189-a358-47b2-98a3-10dc113740e0",
   "metadata": {},
   "outputs": [
    {
     "name": "stdout",
     "output_type": "stream",
     "text": [
      "name : Meera\n",
      "age : 98\n",
      "city : Noida\n",
      "education : BTech\n",
      "hobby : Singing\n"
     ]
    }
   ],
   "source": [
    "details(name=\"Meera\",age=98,city=\"Noida\",education=\"BTech\",hobby=\"Singing\")"
   ]
  },
  {
   "cell_type": "markdown",
   "id": "bb969508-d130-4eaa-af10-e156f7b55fa5",
   "metadata": {},
   "source": [
    "Create a function which takes variable lenght of grocery items and calculates the total price of items "
   ]
  },
  {
   "cell_type": "code",
   "execution_count": 18,
   "id": "f194539b-fccf-4822-9698-cf02ab9ca4d6",
   "metadata": {},
   "outputs": [],
   "source": [
    "def grocery(**kwargs):\n",
    "    total_price=sum(kwargs.values())\n",
    "    print(\"the total price of all items purchased is\",total_price)"
   ]
  },
  {
   "cell_type": "code",
   "execution_count": 20,
   "id": "6696390e-f21c-48a6-ab9d-e018558fceca",
   "metadata": {},
   "outputs": [
    {
     "name": "stdout",
     "output_type": "stream",
     "text": [
      "the total price of all items purchased is 265\n"
     ]
    }
   ],
   "source": [
    "grocery(bread=45,pen=20,chocolate=200)"
   ]
  },
  {
   "cell_type": "code",
   "execution_count": 21,
   "id": "8c774177-c622-4f5f-bb4a-b2faabf2f513",
   "metadata": {},
   "outputs": [
    {
     "name": "stdout",
     "output_type": "stream",
     "text": [
      "the total price of all items purchased is 230\n"
     ]
    }
   ],
   "source": [
    "grocery(milk=65,potatoes=30,onions=35,mangoes=100)"
   ]
  },
  {
   "cell_type": "code",
   "execution_count": null,
   "id": "2439365d-46c4-462f-863c-54f25105f1a4",
   "metadata": {},
   "outputs": [],
   "source": []
  }
 ],
 "metadata": {
  "kernelspec": {
   "display_name": "Python 3 (ipykernel)",
   "language": "python",
   "name": "python3"
  },
  "language_info": {
   "codemirror_mode": {
    "name": "ipython",
    "version": 3
   },
   "file_extension": ".py",
   "mimetype": "text/x-python",
   "name": "python",
   "nbconvert_exporter": "python",
   "pygments_lexer": "ipython3",
   "version": "3.11.7"
  }
 },
 "nbformat": 4,
 "nbformat_minor": 5
}
