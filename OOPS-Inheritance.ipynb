{
 "cells": [
  {
   "cell_type": "markdown",
   "id": "4d589f17-4cf3-4aea-88a5-955ea1a9fb16",
   "metadata": {},
   "source": [
    "Creat a class 'Car' which has attributes such as 'Brand' and 'Color'"
   ]
  },
  {
   "cell_type": "code",
   "execution_count": 8,
   "id": "6fc9e1fa-f233-445e-ba94-78e637da22c5",
   "metadata": {},
   "outputs": [],
   "source": [
    "#definining a class\n",
    "class Car:\n",
    "    def __init__(self,brand,color): #brand and color are my attributes, init is a constructor and self is a pointer\n",
    "        self.brand=brand #initializing brand attribute \n",
    "        self.color=color #initializing color attribute \n",
    "\n",
    "#defining objects\n",
    "obj1=Car('Mercedes','Black')\n",
    "obj2=Car('Porche','Yellow')\n",
    "obj3=Car('Ferrari','Red')"
   ]
  },
  {
   "cell_type": "code",
   "execution_count": 2,
   "id": "11ef2f63-654a-4376-98e3-9a3aa7161814",
   "metadata": {},
   "outputs": [
    {
     "data": {
      "text/plain": [
       "'Mercedes'"
      ]
     },
     "execution_count": 2,
     "metadata": {},
     "output_type": "execute_result"
    }
   ],
   "source": [
    "obj1.brand"
   ]
  },
  {
   "cell_type": "code",
   "execution_count": 3,
   "id": "5716c29f-4ce8-4d46-a0e8-b829b8980864",
   "metadata": {},
   "outputs": [
    {
     "data": {
      "text/plain": [
       "'Black'"
      ]
     },
     "execution_count": 3,
     "metadata": {},
     "output_type": "execute_result"
    }
   ],
   "source": [
    "obj1.color"
   ]
  },
  {
   "cell_type": "code",
   "execution_count": 4,
   "id": "a2d6807b-2152-4a51-95a8-17b264980de8",
   "metadata": {},
   "outputs": [
    {
     "data": {
      "text/plain": [
       "'Red'"
      ]
     },
     "execution_count": 4,
     "metadata": {},
     "output_type": "execute_result"
    }
   ],
   "source": [
    "obj3.color"
   ]
  },
  {
   "cell_type": "code",
   "execution_count": 5,
   "id": "25a37032-6fc6-43f2-94d6-14b20b653ae8",
   "metadata": {},
   "outputs": [
    {
     "data": {
      "text/plain": [
       "'Ferrari'"
      ]
     },
     "execution_count": 5,
     "metadata": {},
     "output_type": "execute_result"
    }
   ],
   "source": [
    "obj3.brand"
   ]
  },
  {
   "cell_type": "code",
   "execution_count": 6,
   "id": "d63b90bf-f201-4de2-9c7b-b89977759d48",
   "metadata": {},
   "outputs": [
    {
     "data": {
      "text/plain": [
       "'Porche'"
      ]
     },
     "execution_count": 6,
     "metadata": {},
     "output_type": "execute_result"
    }
   ],
   "source": [
    "obj2.brand"
   ]
  },
  {
   "cell_type": "code",
   "execution_count": 9,
   "id": "cf0a0fb5-480e-4e78-be1c-6b21b096570e",
   "metadata": {},
   "outputs": [
    {
     "data": {
      "text/plain": [
       "'Yellow'"
      ]
     },
     "execution_count": 9,
     "metadata": {},
     "output_type": "execute_result"
    }
   ],
   "source": [
    "obj2.color"
   ]
  },
  {
   "cell_type": "markdown",
   "id": "3bfcf96e-8e11-44bc-9398-1c191dbeb0ec",
   "metadata": {},
   "source": [
    "Create a class 'Person' with attributes such as 'Name','Age','Qualification' and 'Hobby'"
   ]
  },
  {
   "cell_type": "code",
   "execution_count": 10,
   "id": "e4e0628c-e698-4012-a6a4-90ece364b9bc",
   "metadata": {},
   "outputs": [],
   "source": [
    "#definining a class\n",
    "class Person:\n",
    "    def __init__(self,name,age,qualification,hobby): \n",
    "        self.name=name\n",
    "        self.age=age \n",
    "        self.qualification=qualification\n",
    "        self.hobby=hobby\n",
    "\n",
    "#defining objects\n",
    "obj1=Person('Aashutosh',99,'MTech','Teaching')"
   ]
  },
  {
   "cell_type": "code",
   "execution_count": 11,
   "id": "0990e608-56c7-499f-995f-a71c51e94686",
   "metadata": {},
   "outputs": [
    {
     "data": {
      "text/plain": [
       "'Aashutosh'"
      ]
     },
     "execution_count": 11,
     "metadata": {},
     "output_type": "execute_result"
    }
   ],
   "source": [
    "obj1.name"
   ]
  },
  {
   "cell_type": "code",
   "execution_count": 12,
   "id": "dbf7d65d-3d60-4c6f-865d-c23ef2f66540",
   "metadata": {},
   "outputs": [
    {
     "data": {
      "text/plain": [
       "'Teaching'"
      ]
     },
     "execution_count": 12,
     "metadata": {},
     "output_type": "execute_result"
    }
   ],
   "source": [
    "obj1.hobby"
   ]
  },
  {
   "cell_type": "code",
   "execution_count": 13,
   "id": "3564791f-68d7-4082-bb6e-a981604b417d",
   "metadata": {},
   "outputs": [
    {
     "data": {
      "text/plain": [
       "'MTech'"
      ]
     },
     "execution_count": 13,
     "metadata": {},
     "output_type": "execute_result"
    }
   ],
   "source": [
    "obj1.qualification"
   ]
  },
  {
   "cell_type": "markdown",
   "id": "568a35a9-0ddf-440a-a11b-7ada51c34104",
   "metadata": {},
   "source": [
    "Inheritance\n",
    "\n",
    "Polymorphism\n",
    "\n",
    "Encapsulation\n",
    "\n",
    "Abstraction"
   ]
  },
  {
   "cell_type": "markdown",
   "id": "5cc0993f-f52b-487e-9fb1-c9315f2b748e",
   "metadata": {},
   "source": [
    "Inheritance\n",
    "\n",
    "- Single Level Inheritance\n",
    "\n",
    "- Multi Level Inheritance\n",
    "\n",
    "- Multiple Inheritance"
   ]
  },
  {
   "cell_type": "code",
   "execution_count": 1,
   "id": "7f0e98d7-57e6-4cc8-8ce2-eaaabd815b09",
   "metadata": {},
   "outputs": [],
   "source": [
    "#Single Level Inheritance\n",
    "\n",
    "class Animal: #parent class\n",
    "\n",
    "    def __init__(self,name):\n",
    "        self.name=name\n",
    "\n",
    "    def eat(self):\n",
    "        print(self.name+\"likes to eat\")\n",
    "\n",
    "class Dog(Animal): #child class \n",
    "\n",
    "    def __init__(self,name,breed):\n",
    "        super().__init__(name) #super() will call the __init__ method of the Animal class\n",
    "        self.breed=breed"
   ]
  },
  {
   "cell_type": "code",
   "execution_count": 2,
   "id": "429739dc-1e98-4134-9fd9-c51e5f85c213",
   "metadata": {},
   "outputs": [],
   "source": [
    "obj1=Dog(\"Buddy\",\"GoldenRetriever\")"
   ]
  },
  {
   "cell_type": "code",
   "execution_count": 4,
   "id": "1c3adb0c-71cb-448d-a639-7c1bdcf4ec0c",
   "metadata": {},
   "outputs": [
    {
     "data": {
      "text/plain": [
       "'GoldenRetriever'"
      ]
     },
     "execution_count": 4,
     "metadata": {},
     "output_type": "execute_result"
    }
   ],
   "source": [
    "obj1.breed"
   ]
  },
  {
   "cell_type": "code",
   "execution_count": 5,
   "id": "a36f472c-d6e3-4f83-bbc7-41ab68b3ddca",
   "metadata": {},
   "outputs": [
    {
     "name": "stdout",
     "output_type": "stream",
     "text": [
      "Buddylikes to eat\n"
     ]
    }
   ],
   "source": [
    "obj1.eat()"
   ]
  },
  {
   "cell_type": "code",
   "execution_count": 6,
   "id": "db54615a-df08-4ba5-8a5d-602cd086b69f",
   "metadata": {},
   "outputs": [],
   "source": [
    "class Employee: #Parent class\n",
    "\n",
    "    def __init__(self,name,salary):\n",
    "        self.name=name\n",
    "        self.salary=salary\n",
    "\n",
    "    def get_details(self):\n",
    "        print(\"Hi\",self.name,\"your salary is\",self.salary)\n",
    "\n",
    "class Manager(Employee): #child class\n",
    "\n",
    "    def __init__(self,name,salary,department):\n",
    "        super().__init__(name,salary)\n",
    "        self.department=department"
   ]
  },
  {
   "cell_type": "code",
   "execution_count": 17,
   "id": "07759117-4ab4-4f2c-94ea-b1c0edd51bf7",
   "metadata": {},
   "outputs": [],
   "source": [
    "a=Employee(\"John\",50000)"
   ]
  },
  {
   "cell_type": "code",
   "execution_count": 19,
   "id": "027f1996-a863-498c-8b7b-ae0e7bec56bd",
   "metadata": {},
   "outputs": [
    {
     "data": {
      "text/plain": [
       "50000"
      ]
     },
     "execution_count": 19,
     "metadata": {},
     "output_type": "execute_result"
    }
   ],
   "source": [
    "a.salary"
   ]
  },
  {
   "cell_type": "code",
   "execution_count": 20,
   "id": "cd4cc485-7f54-462b-9795-d834b39bf919",
   "metadata": {},
   "outputs": [
    {
     "name": "stdout",
     "output_type": "stream",
     "text": [
      "Hi John your salary is 50000\n"
     ]
    }
   ],
   "source": [
    "a.get_details()"
   ]
  },
  {
   "cell_type": "code",
   "execution_count": 7,
   "id": "f52a7bfd-9e03-4b6c-a6b5-9d4fcb15b853",
   "metadata": {},
   "outputs": [],
   "source": [
    "p=Manager('Alex',20000,'IT')"
   ]
  },
  {
   "cell_type": "code",
   "execution_count": 10,
   "id": "1fa91863-5322-4480-a3e1-381bf399d5ba",
   "metadata": {},
   "outputs": [
    {
     "data": {
      "text/plain": [
       "'IT'"
      ]
     },
     "execution_count": 10,
     "metadata": {},
     "output_type": "execute_result"
    }
   ],
   "source": [
    "p.department"
   ]
  },
  {
   "cell_type": "code",
   "execution_count": 11,
   "id": "d2fb6157-e3fb-4bee-817e-ecd9fd0e4a71",
   "metadata": {},
   "outputs": [
    {
     "name": "stdout",
     "output_type": "stream",
     "text": [
      "Hi Alex your salary is 20000\n"
     ]
    }
   ],
   "source": [
    "p.get_details()"
   ]
  },
  {
   "cell_type": "code",
   "execution_count": 12,
   "id": "5414c849-fcac-49c4-a350-333d2d698f10",
   "metadata": {},
   "outputs": [],
   "source": [
    "q=Manager('Catherine',40000,'HumanResource')"
   ]
  },
  {
   "cell_type": "code",
   "execution_count": 15,
   "id": "c6d83af3-79be-43e4-a550-cf20b381975f",
   "metadata": {},
   "outputs": [
    {
     "data": {
      "text/plain": [
       "'Catherine'"
      ]
     },
     "execution_count": 15,
     "metadata": {},
     "output_type": "execute_result"
    }
   ],
   "source": [
    "q.name"
   ]
  },
  {
   "cell_type": "code",
   "execution_count": 16,
   "id": "bde7c28a-c8a5-404e-ae4c-833ec487a7d0",
   "metadata": {},
   "outputs": [
    {
     "name": "stdout",
     "output_type": "stream",
     "text": [
      "Hi Catherine your salary is 40000\n"
     ]
    }
   ],
   "source": [
    "q.get_details()"
   ]
  },
  {
   "cell_type": "markdown",
   "id": "2990f4af-a163-4454-8b03-c80aefbb8878",
   "metadata": {},
   "source": [
    "- Create a parent class \"Person\" with attributes such as \"name\" and \"age\" and a method which displays the name and age of the person\n",
    "\n",
    "- Create a child class \"Student\" which inherits the methods from the parent class and has attributes such as \"name\",\"age\" and \"student_id\""
   ]
  },
  {
   "cell_type": "code",
   "execution_count": 21,
   "id": "9d520c01-7d3a-449c-aced-b2737455ca40",
   "metadata": {},
   "outputs": [],
   "source": [
    "class Person:\n",
    "\n",
    "    def __init__(self,name,age):\n",
    "        self.name=name\n",
    "        self.age=age\n",
    "\n",
    "    def details(self):\n",
    "        print(\"Hi\",self.name,\" your age is\",self.age)\n",
    "\n",
    "class Student(Person):\n",
    "\n",
    "    def __init__(self,name,age,student_id):\n",
    "        super().__init__(name,age)\n",
    "        self.student_id=student_id"
   ]
  },
  {
   "cell_type": "code",
   "execution_count": 23,
   "id": "d28d6e3b-8413-4d41-a41b-5f00214a4a30",
   "metadata": {},
   "outputs": [],
   "source": [
    "s1=Student('Marco',19,2036)"
   ]
  },
  {
   "cell_type": "code",
   "execution_count": 25,
   "id": "cc4fc717-3ba9-4ff4-bd92-3741451b2d81",
   "metadata": {},
   "outputs": [
    {
     "data": {
      "text/plain": [
       "2036"
      ]
     },
     "execution_count": 25,
     "metadata": {},
     "output_type": "execute_result"
    }
   ],
   "source": [
    "s1.student_id"
   ]
  },
  {
   "cell_type": "code",
   "execution_count": 26,
   "id": "e2feb1a8-8c04-49c9-b6f7-dd5e4ff95f55",
   "metadata": {},
   "outputs": [
    {
     "name": "stdout",
     "output_type": "stream",
     "text": [
      "Hi Marco  your age is 19\n"
     ]
    }
   ],
   "source": [
    "s1.details()"
   ]
  },
  {
   "cell_type": "code",
   "execution_count": 27,
   "id": "4d93756e-1ff3-484a-b121-f41bf057eb7d",
   "metadata": {},
   "outputs": [],
   "source": [
    "#Multi Level Inheritance\n",
    "\n",
    "class Animal: #parent class of Dog\n",
    "\n",
    "    def __init__(self,name):\n",
    "        self.name=name\n",
    "\n",
    "    def eat(self):\n",
    "        print(self.name+\"likes to eat\")\n",
    "\n",
    "class Dog(Animal): #child class of Animal and Parent class of Pet\n",
    "\n",
    "    def __init__(self,name,breed):\n",
    "        super().__init__(name) #super() will call the __init__ method of the Animal class\n",
    "        self.breed=breed\n",
    "\n",
    "class Pet(Dog):\n",
    "\n",
    "    def __init__(self,name,breed,ownername):\n",
    "        super().__init__(name,breed)\n",
    "        self.ownername=ownername"
   ]
  },
  {
   "cell_type": "code",
   "execution_count": 28,
   "id": "eef2724f-ad38-474c-90ad-cbd3c5bb40ce",
   "metadata": {},
   "outputs": [],
   "source": [
    "p1=Pet('Spike','Labrador','Mike')"
   ]
  },
  {
   "cell_type": "code",
   "execution_count": 29,
   "id": "fabe7a92-e984-49bf-8c71-99f5de3baddb",
   "metadata": {},
   "outputs": [
    {
     "data": {
      "text/plain": [
       "'Labrador'"
      ]
     },
     "execution_count": 29,
     "metadata": {},
     "output_type": "execute_result"
    }
   ],
   "source": [
    "p1.breed"
   ]
  },
  {
   "cell_type": "code",
   "execution_count": 30,
   "id": "c9b098d9-224e-40d1-ae5f-bd78d5c9cad5",
   "metadata": {},
   "outputs": [
    {
     "data": {
      "text/plain": [
       "'Mike'"
      ]
     },
     "execution_count": 30,
     "metadata": {},
     "output_type": "execute_result"
    }
   ],
   "source": [
    "p1.ownername"
   ]
  },
  {
   "cell_type": "code",
   "execution_count": 31,
   "id": "17a9d378-19c1-4066-9a0c-7fb48b21ad65",
   "metadata": {},
   "outputs": [
    {
     "data": {
      "text/plain": [
       "'Spike'"
      ]
     },
     "execution_count": 31,
     "metadata": {},
     "output_type": "execute_result"
    }
   ],
   "source": [
    "p1.name"
   ]
  },
  {
   "cell_type": "code",
   "execution_count": 32,
   "id": "97fd93e3-3882-424a-bfaf-a9e61bd201e7",
   "metadata": {},
   "outputs": [
    {
     "name": "stdout",
     "output_type": "stream",
     "text": [
      "Spikelikes to eat\n"
     ]
    }
   ],
   "source": [
    "p1.eat()"
   ]
  },
  {
   "cell_type": "code",
   "execution_count": 36,
   "id": "aaa9ae49-037d-4904-bed1-04d4b6fa7464",
   "metadata": {},
   "outputs": [
    {
     "name": "stdout",
     "output_type": "stream",
     "text": [
      "tom like to eat\n"
     ]
    }
   ],
   "source": [
    "obj1.eat()"
   ]
  },
  {
   "cell_type": "markdown",
   "id": "bac9a6e2-4673-4463-a745-5ad9d291b99f",
   "metadata": {},
   "source": [
    "- Create a class \"Vehicle\" with attribute \"brand\" and a method which talks about the transmission type - automatic or manual\n",
    "\n",
    "- Create child class \"Car\" with attributes \"brand\" and \"Model\"\n",
    "\n",
    "- Create another child class \"SportsCar\" with attributes \"brand\", \"model\", \"color\" and \"doors\""
   ]
  },
  {
   "cell_type": "code",
   "execution_count": 38,
   "id": "14e6daae-a1d1-4fef-ac92-cf9c63b96bc5",
   "metadata": {},
   "outputs": [],
   "source": [
    "class Vehicle:\n",
    "\n",
    "    def __init__(self,brand):\n",
    "        self.brand=brand\n",
    "\n",
    "    def transmission(self):\n",
    "        print(\"the transmission type is automatic\")\n",
    "\n",
    "class Car(Vehicle):\n",
    "\n",
    "    def __init__(self,brand,model):\n",
    "        super().__init__(brand)\n",
    "        self.model=model\n",
    "\n",
    "class SportsCar(Car):\n",
    "\n",
    "    def __init__(self,brand,model,color,doors):\n",
    "        super().__init__(brand,model)\n",
    "        self.color=color\n",
    "        self.doors=doors"
   ]
  },
  {
   "cell_type": "code",
   "execution_count": 39,
   "id": "c9e3efc1-62e8-4723-8f7d-d9fa1a0502e0",
   "metadata": {},
   "outputs": [],
   "source": [
    "s1=SportsCar('Audi','A6','White',2)"
   ]
  },
  {
   "cell_type": "code",
   "execution_count": 42,
   "id": "e5564043-bbac-4476-9fee-b54da83e07f5",
   "metadata": {},
   "outputs": [
    {
     "data": {
      "text/plain": [
       "'A6'"
      ]
     },
     "execution_count": 42,
     "metadata": {},
     "output_type": "execute_result"
    }
   ],
   "source": [
    "s1.model"
   ]
  },
  {
   "cell_type": "code",
   "execution_count": 43,
   "id": "75ed043f-f5d1-4273-b14b-0620acd5157a",
   "metadata": {},
   "outputs": [
    {
     "name": "stdout",
     "output_type": "stream",
     "text": [
      "the transmission type is automatic\n"
     ]
    }
   ],
   "source": [
    "s1.transmission()"
   ]
  },
  {
   "cell_type": "code",
   "execution_count": 53,
   "id": "c7a03ebe-86b4-4cf9-9eea-f7515d39023c",
   "metadata": {},
   "outputs": [],
   "source": [
    "#Multiple Inheritance\n",
    "\n",
    "class A: #parent class\n",
    "\n",
    "    def method(self):\n",
    "        print(\"Hello from A\")\n",
    "\n",
    "class B: #parent class\n",
    "\n",
    "    def method(self):\n",
    "        print(\"Hello from B\")\n",
    "\n",
    "class C(A,B): #child class \n",
    "\n",
    "    def method(self):\n",
    "        print(\"Hello from C\")"
   ]
  },
  {
   "cell_type": "code",
   "execution_count": 54,
   "id": "101e486c-a9d0-4f19-85ac-6c6b1ea5a33b",
   "metadata": {},
   "outputs": [],
   "source": [
    "c=C()"
   ]
  },
  {
   "cell_type": "code",
   "execution_count": 55,
   "id": "5c8e1519-a445-4888-a7aa-5f774a7d2921",
   "metadata": {},
   "outputs": [
    {
     "name": "stdout",
     "output_type": "stream",
     "text": [
      "Hello from C\n"
     ]
    }
   ],
   "source": [
    "c.method() #M.R.O - Method Resolution Order "
   ]
  },
  {
   "cell_type": "code",
   "execution_count": 56,
   "id": "f2c69b91-3a58-4f8a-a73d-a2563a8ea049",
   "metadata": {},
   "outputs": [],
   "source": [
    "#Multiple Inheritance\n",
    "\n",
    "class A: #parent class\n",
    "\n",
    "    def method(self):\n",
    "        print(\"Hello from A\")\n",
    "\n",
    "class B: #parent class\n",
    "\n",
    "    def method(self):\n",
    "        print(\"Hello from B\")\n",
    "\n",
    "class C(A,B): #child class \n",
    "\n",
    "    def method_(self):\n",
    "        print(\"Hello from C\")"
   ]
  },
  {
   "cell_type": "code",
   "execution_count": 57,
   "id": "5ef09732-6564-4546-b6e1-d18454c4726a",
   "metadata": {},
   "outputs": [],
   "source": [
    "c=C()"
   ]
  },
  {
   "cell_type": "code",
   "execution_count": 58,
   "id": "724a11a7-1364-4e81-81b9-7a23777319d5",
   "metadata": {},
   "outputs": [
    {
     "name": "stdout",
     "output_type": "stream",
     "text": [
      "Hello from A\n"
     ]
    }
   ],
   "source": [
    "c.method()"
   ]
  },
  {
   "cell_type": "code",
   "execution_count": 60,
   "id": "fa620ae0-1931-41e4-8cd2-c644db1efdb0",
   "metadata": {},
   "outputs": [],
   "source": [
    "#Multiple Inheritance\n",
    "\n",
    "class A: #parent class\n",
    "\n",
    "    def method__(self):\n",
    "        print(\"Hello from A\")\n",
    "\n",
    "class B: #parent class\n",
    "\n",
    "    def method(self):\n",
    "        print(\"Hello from B\")\n",
    "\n",
    "class C(A,B): #child class \n",
    "\n",
    "    def method_(self):\n",
    "        print(\"Hello from C\")"
   ]
  },
  {
   "cell_type": "code",
   "execution_count": 61,
   "id": "d408bc3c-6a72-4131-b2f7-b1441948bc11",
   "metadata": {},
   "outputs": [],
   "source": [
    "c=C()"
   ]
  },
  {
   "cell_type": "code",
   "execution_count": 62,
   "id": "fcc412b2-fca4-4ce3-b695-cbf44a1ed5e8",
   "metadata": {},
   "outputs": [
    {
     "name": "stdout",
     "output_type": "stream",
     "text": [
      "Hello from B\n"
     ]
    }
   ],
   "source": [
    "c.method()"
   ]
  },
  {
   "cell_type": "code",
   "execution_count": 64,
   "id": "4019a6be-8d77-4855-b0ec-08f5fbaa828d",
   "metadata": {},
   "outputs": [
    {
     "data": {
      "text/plain": [
       "(__main__.C, __main__.A, __main__.B, object)"
      ]
     },
     "execution_count": 64,
     "metadata": {},
     "output_type": "execute_result"
    }
   ],
   "source": [
    "C.__mro__"
   ]
  },
  {
   "cell_type": "code",
   "execution_count": null,
   "id": "c7dc0c2e-b89f-480a-9f32-2b24d34fd1f2",
   "metadata": {},
   "outputs": [],
   "source": []
  }
 ],
 "metadata": {
  "kernelspec": {
   "display_name": "Python 3 (ipykernel)",
   "language": "python",
   "name": "python3"
  },
  "language_info": {
   "codemirror_mode": {
    "name": "ipython",
    "version": 3
   },
   "file_extension": ".py",
   "mimetype": "text/x-python",
   "name": "python",
   "nbconvert_exporter": "python",
   "pygments_lexer": "ipython3",
   "version": "3.11.7"
  }
 },
 "nbformat": 4,
 "nbformat_minor": 5
}
